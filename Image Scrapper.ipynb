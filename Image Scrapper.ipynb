{
 "cells": [
  {
   "cell_type": "code",
   "execution_count": 17,
   "metadata": {},
   "outputs": [],
   "source": [
    "import logging as lg\n",
    "import requests\n",
    "from bs4 import BeautifulSoup as bs\n",
    "from urllib.request import urlopen #useful for opening urls\n",
    "headers = {'User-Agent': 'Mozilla/5.0 (Windows NT 10.0; Win64; x64) AppleWebKit/537.36 (KHTML, like Gecko) Chrome/58.0.3029.110 Safari/537.3'}\n",
    "import logging\n",
    "import os \n",
    "search = 'cardi b' #search  term\n",
    "#url we want to scrape from"
   ]
  },
  {
   "cell_type": "code",
   "execution_count": 3,
   "metadata": {},
   "outputs": [],
   "source": [
    "# opens url source\n",
    "x= requests.get(f'https://www.google.com/search?sca_esv=18fae8d458e6cfdd&sxsrf=ACQVn0-9U0C7ww_kAGVhqsgvYRJJ85mhJw:1711201301768&q={search}&tbm=isch&source=lnms&prmd=ivnmbtz&sa=X&ved=2ahUKEwihn-zNwYqFAxWiQEEAHSZEDlMQ0pQJegQIDBAB&biw=1536&bih=730&dpr=1.25' \n",
    ", headers=headers) # we have included search term in above url"
   ]
  },
  {
   "cell_type": "code",
   "execution_count": 4,
   "metadata": {},
   "outputs": [
    {
     "data": {
      "text/plain": [
       "<Response [200]>"
      ]
     },
     "execution_count": 4,
     "metadata": {},
     "output_type": "execute_result"
    }
   ],
   "source": [
    "x"
   ]
  },
  {
   "cell_type": "code",
   "execution_count": 5,
   "metadata": {},
   "outputs": [],
   "source": [
    "search_html = bs(x.content, features=\"lxml\") #get html page for search results"
   ]
  },
  {
   "cell_type": "code",
   "execution_count": 6,
   "metadata": {},
   "outputs": [
    {
     "data": {
      "text/plain": [
       "<!DOCTYPE html PUBLIC \"-//WAPFORUM//DTD XHTML Mobile 1.0//EN\" \"http://www.wapforum.org/DTD/xhtml-mobile10.dtd\">\n",
       "<html lang=\"en-GB\" xmlns=\"http://www.w3.org/1999/xhtml\"><head><meta content=\"application/xhtml+xml; charset=utf-8\" http-equiv=\"Content-Type\"/><meta content=\"no-cache\" name=\"Cache-Control\"/><title>cardi b - Google Search</title><style>a{text-decoration:none;color:inherit}a:hover{text-decoration:underline}a img{border:0}body{font-family:arial,sans-serif;padding:8px;margin:0 auto;max-width:700px;min-width:240px;}.FbhRzb{border-left:thin solid #dadce0;border-right:thin solid #dadce0;border-top:thin solid #dadce0;height:40px;overflow:hidden}.n692Zd{margin-bottom:10px}.cvifge{height:40px;border-spacing:0}.QvGUP{height:40px;padding:0 8px 0 8px;vertical-align:top}.O4cRJf{height:40px;width:100%;padding:0;padding-right:16px}.O1ePr{height:40px;padding:0;vertical-align:top}.kgJEQe{height:36px;width:98px;vertical-align:top;margin-top:4px}.lXLRf{vertical-align:top}.MhzMZd{border:0;vertical-align:middle;font-size:14px;height:40px;padding:0;width:100%;padding-left:16px}.xB0fq{height:40px;border:none;font-size:14px;background-color:#1a73e8;color:#fff;padding:0 16px;margin:0;vertical-align:top;cursor:pointer}.xB0fq:focus{border:1px solid #1a73e8}.M7pB2{border:thin solid #dadce0;margin:0 0 3px 0;font-size:13px;font-weight:500;height:40px}.euZec{width:100%;height:40px;text-align:center;border-spacing:0}table.euZec td{padding:0;width:25%}.QIqI7{display:inline-block;padding-top:4px;font-weight:bold;color:#4285f4}.EY24We{border-bottom:2px solid #4285f4}.CsQyDc{display:inline-block;color:#70757a}.TuS8Ad{font-size:14px}.HddGcc{padding:8px;color:#70757a}.dzp8ae{font-weight:bold;color:#3c4043}.rEM8G{color:#70757a}.bookcf{table-layout:fixed;width:100%;border-spacing:0}.InWNIe{text-align:center}.uZgmoc{border:thin solid #dadce0;color:#70757a;font-size:14px;text-align:center;table-layout:fixed;width:100%}.frGj1b{display:block;padding:12px 0 12px 0;width:100%}.BnJWBc{text-align:center;padding:6px 0 13px 0;height:35px}.e3goi{vertical-align:top;padding:0;height:180px}.GpQGbf{margin:auto;border-collapse:collapse;border-spacing:0;width:100%}</style></head><body><style>.X6ZCif{color:#202124;font-size:11px;line-height:16px;display:inline-block;padding-top:2px;overflow:hidden;padding-bottom:4px;width:100%}.TwVfHd{border-radius:16px;border:thin solid #dadce0;display:inline-block;padding:8px 8px;margin-right:8px;margin-bottom:4px}.yekiAe{background-color:#dadce0}.jjVJ4e{width:100%}.ezO2md{border:thin solid #dadce0;padding:12px 16px 12px 16px;margin-bottom:10px;font-family:arial,sans-serif}.lIMUZd{font-family:arial,sans-serif}.RntSmf{border-spacing:0}.lgD2Tc{width:100%}.SpelHe{text-align:center}.SpelHe{position:relative}.kCmkOe{position:relative}.kCmkOe{width:162px;height:140px;line-height:140px;overflow:'hidden';text-align:center}.DS1iW{text-align:center;margin:auto;vertical-align:middle;max-width:162px;max-height:140px}.AlD19d{padding-top:2px;padding-bottom:8px;}.fYyStc{word-break:break-word}.ynsChf{display:block;white-space:nowrap;overflow:hidden;text-overflow:ellipsis}.Fj3V3b{color:#1967d2;font-size:14px;line-height:20px}.FrIlee{color:#202124;font-size:11px;line-height:16px}.F9iS2e{color:#70757a;font-size:11px;line-height:16px}.WMQ2Le{color:#70757a;font-size:12px;line-height:16px}.x3G5ab{color:#202124;font-size:12px;line-height:16px}.fuLhoc{color:#1967d2;font-size:16px;line-height:20px}.epoveb{font-size:24px;line-height:28px;font-weight:400;color:#202124}.dXDvrc{color:#0d652d;font-size:14px;line-height:20px;word-wrap:break-word}.dloBPe{font-weight:bold}.YVIcad{color:#70757a}.JkVVdd{color:#ea4335}.oXZRFd{color:#ea4335}.MQHtg{color:#fbbc04}.pyMRrb{color:#1e8e3e}.EtTZid{color:#1e8e3e}.M3vVJe{color:#1967d2}.qXLe6d{display:block}.NHQNef{font-style:italic}.Cb8Z7c{white-space:pre}a.ZWRArf{text-decoration:none}a .CVA68e:hover{text-decoration:underline}.Wt3Opf{padding-bottom:12px}.HH539{border-collapse:collapse;border-spacing:0;width:100%}.bJHk6c{margin-top:12px}.eyxDDf{display:block;float:right;padding-left:16px}.VyyVAd{clear:both}.IcoMSe{padding-top:12px}.HH539 td{padding-top:0;padding-bottom:0;padding-right:8px}.HH539 .B5idHd{padding-right:0}.aJxI8c{vertical-align:top}.arj0Nc{float:left;margin-right:8px}.LOZOx{text-align:left}.X5r65c{text-align:center}.zmsLpf{text-align:right}</style><div class=\"n692Zd\"><div class=\"BnJWBc\"><a class=\"lXLRf\" href=\"/?sa=X&amp;sca_esv=18fae8d458e6cfdd&amp;biw=1536&amp;bih=730&amp;output=images&amp;tbm=isch&amp;ved=0ahUKEwi8u-HUwoqFAxXoQEEAHSA2As0QPAgC\"><img alt=\"Google\" class=\"kgJEQe\" src=\"/images/branding/searchlogo/1x/googlelogo_desk_heirloom_color_150x55dp.gif\"/></a></div><div class=\"FbhRzb\"><form action=\"/search\"><input name=\"sca_esv\" type=\"hidden\" value=\"18fae8d458e6cfdd\"/><input name=\"biw\" type=\"hidden\" value=\"1536\"/><input name=\"bih\" type=\"hidden\" value=\"730\"/><input name=\"tbm\" type=\"hidden\" value=\"isch\"/><input name=\"oq\" type=\"hidden\"/><input name=\"aqs\" type=\"hidden\"/><table class=\"cvifge\"><tr><td class=\"O4cRJf\"><input class=\"MhzMZd\" name=\"q\" type=\"text\" value=\"cardi b\"/></td><td class=\"O1ePr\"><input class=\"xB0fq\" type=\"submit\" value=\"Search\"/></td></tr></table></form></div><div class=\"M7pB2\"><table class=\"euZec\"><tbody><tr><td><a class=\"CsQyDc\" href=\"/search?q=cardi+b&amp;sca_esv=18fae8d458e6cfdd&amp;biw=1536&amp;bih=730&amp;source=lnms&amp;sa=X&amp;ved=0ahUKEwi8u-HUwoqFAxXoQEEAHSA2As0Q_AUIBCgA\">ALL</a></td><td class=\"EY24We\"><span class=\"QIqI7\">IMAGES</span></td><td><a class=\"CsQyDc\" href=\"/search?q=cardi+b&amp;sca_esv=18fae8d458e6cfdd&amp;biw=1536&amp;bih=730&amp;tbm=nws&amp;source=lnms&amp;sa=X&amp;ved=0ahUKEwi8u-HUwoqFAxXoQEEAHSA2As0Q_AUIBigC\">NEWS</a></td><td><a class=\"CsQyDc\" href=\"/search?q=cardi+b&amp;sca_esv=18fae8d458e6cfdd&amp;biw=1536&amp;bih=730&amp;tbm=vid&amp;source=lnms&amp;sa=X&amp;ved=0ahUKEwi8u-HUwoqFAxXoQEEAHSA2As0Q_AUIBygD\">VIDEOS</a></td></tr></tbody></table></div></div><div class=\"X6ZCif\"><a class=\"TwVfHd\" href=\"/search?sca_esv=18fae8d458e6cfdd&amp;biw=1536&amp;bih=730&amp;tbm=isch&amp;q=cardi+b&amp;chips=q:cardi+b,g_1:instagram&amp;sa=X&amp;ved=0ahUKEwi8u-HUwoqFAxXoQEEAHSA2As0Q4lYICygA\">instagram</a><a class=\"TwVfHd\" href=\"/search?sca_esv=18fae8d458e6cfdd&amp;biw=1536&amp;bih=730&amp;tbm=isch&amp;q=cardi+b&amp;chips=q:cardi+b,g_1:wallpaper&amp;sa=X&amp;ved=0ahUKEwi8u-HUwoqFAxXoQEEAHSA2As0Q4lYIDCgB\">wallpaper</a><a class=\"TwVfHd\" href=\"/search?sca_esv=18fae8d458e6cfdd&amp;biw=1536&amp;bih=730&amp;tbm=isch&amp;q=cardi+b&amp;chips=q:cardi+b,g_1:dress&amp;sa=X&amp;ved=0ahUKEwi8u-HUwoqFAxXoQEEAHSA2As0Q4lYIDSgC\">dress</a><a class=\"TwVfHd\" href=\"/search?sca_esv=18fae8d458e6cfdd&amp;biw=1536&amp;bih=730&amp;tbm=isch&amp;q=cardi+b&amp;chips=q:cardi+b,g_1:tattoo&amp;sa=X&amp;ved=0ahUKEwi8u-HUwoqFAxXoQEEAHSA2As0Q4lYIDigD\">tattoo</a><a class=\"TwVfHd\" href=\"/search?sca_esv=18fae8d458e6cfdd&amp;biw=1536&amp;bih=730&amp;tbm=isch&amp;q=cardi+b&amp;chips=q:cardi+b,g_1:baby&amp;sa=X&amp;ved=0ahUKEwi8u-HUwoqFAxXoQEEAHSA2As0Q4lYIDygE\">baby</a><a class=\"TwVfHd\" href=\"/search?sca_esv=18fae8d458e6cfdd&amp;biw=1536&amp;bih=730&amp;tbm=isch&amp;q=cardi+b&amp;chips=q:cardi+b,g_1:bodak+yellow&amp;sa=X&amp;ved=0ahUKEwi8u-HUwoqFAxXoQEEAHSA2As0Q4lYIECgF\">bodak yellow</a><a class=\"TwVfHd\" href=\"/search?sca_esv=18fae8d458e6cfdd&amp;biw=1536&amp;bih=730&amp;tbm=isch&amp;q=cardi+b&amp;chips=q:cardi+b,g_1:shorts&amp;sa=X&amp;ved=0ahUKEwi8u-HUwoqFAxXoQEEAHSA2As0Q4lYIESgG\">shorts</a><a class=\"TwVfHd\" href=\"/search?sca_esv=18fae8d458e6cfdd&amp;biw=1536&amp;bih=730&amp;tbm=isch&amp;q=cardi+b&amp;chips=q:cardi+b,g_1:money&amp;sa=X&amp;ved=0ahUKEwi8u-HUwoqFAxXoQEEAHSA2As0Q4lYIEigH\">money</a><a class=\"TwVfHd\" href=\"/search?sca_esv=18fae8d458e6cfdd&amp;biw=1536&amp;bih=730&amp;tbm=isch&amp;q=cardi+b&amp;chips=q:cardi+b,g_1:post&amp;sa=X&amp;ved=0ahUKEwi8u-HUwoqFAxXoQEEAHSA2As0Q4lYIEygI\">post</a><a class=\"TwVfHd\" href=\"/search?sca_esv=18fae8d458e6cfdd&amp;biw=1536&amp;bih=730&amp;tbm=isch&amp;q=cardi+b&amp;chips=q:cardi+b,g_1:old&amp;sa=X&amp;ved=0ahUKEwi8u-HUwoqFAxXoQEEAHSA2As0Q4lYIFCgJ\">old</a></div><div><table class=\"GpQGbf\"><tr><td align=\"center\" class=\"e3goi\"><div class=\"jjVJ4e\"> <div> <div class=\"lIMUZd\"><div><table class=\"RntSmf\"><tr><td><a href=\"/url?esrc=s&amp;q=&amp;rct=j&amp;sa=U&amp;url=https://en.wikipedia.org/wiki/Cardi_B&amp;ved=2ahUKEwi8u-HUwoqFAxXoQEEAHSA2As0QqoUBegQIBBAB&amp;usg=AOvVaw1y7IP1EixcQAhFIpA4yuuN\"><div class=\"kCmkOe\"><img alt=\"\" class=\"DS1iW\" src=\"https://encrypted-tbn0.gstatic.com/images?q=tbn:ANd9GcQ1u72ydtgngN4WECHJxT_8l6OMKjZCO9HVQRpCC9qhxce449zpESVGKzYLffM&amp;s\"/></div></a></td></tr><tr><td><a href=\"/url?esrc=s&amp;q=&amp;rct=j&amp;sa=U&amp;url=https://en.wikipedia.org/wiki/Cardi_B&amp;ved=2ahUKEwi8u-HUwoqFAxXoQEEAHSA2As0Qr4kDegQIBBAC&amp;usg=AOvVaw2G29V328RPGqUwaXVNUkTV\"><div class=\"AlD19d\"> <span class=\"qXLe6d x3G5ab\"> <span class=\"fYyStc\">Cardi B - Wikipedia</span> </span> <span class=\"qXLe6d F9iS2e\"> <span class=\"fYyStc\">en.wikipedia.org</span> </span> </div></a></td></tr></table></div></div> </div> </div></td><td align=\"center\" class=\"e3goi\"><div class=\"jjVJ4e\"> <div> <div class=\"lIMUZd\"><div><table class=\"RntSmf\"><tr><td><a href=\"/url?esrc=s&amp;q=&amp;rct=j&amp;sa=U&amp;url=https://www.britannica.com/biography/Cardi-B&amp;ved=2ahUKEwi8u-HUwoqFAxXoQEEAHSA2As0QqoUBegQIFBAB&amp;usg=AOvVaw0eHPLza96FgLQ3XZx0Rd9L\"><div class=\"kCmkOe\"><img alt=\"\" class=\"DS1iW\" src=\"https://encrypted-tbn0.gstatic.com/images?q=tbn:ANd9GcT5h9_Uq2zMIkSmu2PUyiEI4cZluX5si1ke_jdlkDPQMJhyvDs9bid1BZqeKg&amp;s\"/></div></a></td></tr><tr><td><a href=\"/url?esrc=s&amp;q=&amp;rct=j&amp;sa=U&amp;url=https://www.britannica.com/biography/Cardi-B&amp;ved=2ahUKEwi8u-HUwoqFAxXoQEEAHSA2As0Qr4kDegQIFBAC&amp;usg=AOvVaw2h1LClxTIEH-hax00nVWMY\"><div class=\"AlD19d\"> <span class=\"qXLe6d x3G5ab\"> <span class=\"fYyStc\">Cardi B | Biography, Music,...</span> </span> <span class=\"qXLe6d F9iS2e\"> <span class=\"fYyStc\">www.britannica.com</span> </span> </div></a></td></tr></table></div></div> </div> </div></td><td align=\"center\" class=\"e3goi\"><div class=\"jjVJ4e\"> <div> <div class=\"lIMUZd\"><div><table class=\"RntSmf\"><tr><td><a href=\"/url?esrc=s&amp;q=&amp;rct=j&amp;sa=U&amp;url=https://www.harpersbazaar.com/celebrity/latest/g20634894/cardi-b-trivia-facts/&amp;ved=2ahUKEwi8u-HUwoqFAxXoQEEAHSA2As0QqoUBegQIEhAB&amp;usg=AOvVaw0QlSR0R4Y5A5E5U86M3gAk\"><div class=\"kCmkOe\"><img alt=\"\" class=\"DS1iW\" src=\"https://encrypted-tbn0.gstatic.com/images?q=tbn:ANd9GcTITsz_4FQeGIPFH2O4hKZHYR4-tVJWQJGfct3iHqnyaBR_Z7NFlfHu8entGw&amp;s\"/></div></a></td></tr><tr><td><a href=\"/url?esrc=s&amp;q=&amp;rct=j&amp;sa=U&amp;url=https://www.harpersbazaar.com/celebrity/latest/g20634894/cardi-b-trivia-facts/&amp;ved=2ahUKEwi8u-HUwoqFAxXoQEEAHSA2As0Qr4kDegQIEhAC&amp;usg=AOvVaw1PH_t3Um0PISFDeTn7D5KJ\"><div class=\"AlD19d\"> <span class=\"qXLe6d x3G5ab\"> <span class=\"fYyStc\">Cardi B Facts - 45 Things...</span> </span> <span class=\"qXLe6d F9iS2e\"> <span class=\"fYyStc\">www.harpersbazaar.com</span> </span> </div></a></td></tr></table></div></div> </div> </div></td><td align=\"center\" class=\"e3goi\"><div class=\"jjVJ4e\"> <div> <div class=\"lIMUZd\"><div><table class=\"RntSmf\"><tr><td><a href=\"/url?esrc=s&amp;q=&amp;rct=j&amp;sa=U&amp;url=https://www.usmagazine.com/entertainment/news/cardi-b-declares-her-rivals-are-washed-on-new-song/&amp;ved=2ahUKEwi8u-HUwoqFAxXoQEEAHSA2As0QqoUBegQIExAB&amp;usg=AOvVaw34PAjMqCk3SJASgXXA3MRp\"><div class=\"kCmkOe\"><img alt=\"\" class=\"DS1iW\" src=\"https://encrypted-tbn0.gstatic.com/images?q=tbn:ANd9GcQq12oe6N7aKhHHP3Cu7FSzFF0q6TYEf5cM1j3yNUAVmTlcb6MgCGjfRz1csUc&amp;s\"/></div></a></td></tr><tr><td><a href=\"/url?esrc=s&amp;q=&amp;rct=j&amp;sa=U&amp;url=https://www.usmagazine.com/entertainment/news/cardi-b-declares-her-rivals-are-washed-on-new-song/&amp;ved=2ahUKEwi8u-HUwoqFAxXoQEEAHSA2As0Qr4kDegQIExAC&amp;usg=AOvVaw1go89ultGNR2U0Ph4bNsIO\"><div class=\"AlD19d\"> <span class=\"qXLe6d x3G5ab\"> <span class=\"fYyStc\">Cardi B Declares Her Rivals...</span> </span> <span class=\"qXLe6d F9iS2e\"> <span class=\"fYyStc\">www.usmagazine.com</span> </span> </div></a></td></tr></table></div></div> </div> </div></td></tr><tr><td align=\"center\" class=\"e3goi\"><div class=\"jjVJ4e\"> <div> <div class=\"lIMUZd\"><div><table class=\"RntSmf\"><tr><td><a href=\"/url?esrc=s&amp;q=&amp;rct=j&amp;sa=U&amp;url=https://www.teenvogue.com/story/cardi-b-explains-the-meaning-of-face-tattoo-unveils-new-one-on-instagram-live&amp;ved=2ahUKEwi8u-HUwoqFAxXoQEEAHSA2As0QqoUBegQIERAB&amp;usg=AOvVaw3_7TkLtWxz5Ae5R2HihCaW\"><div class=\"kCmkOe\"><img alt=\"\" class=\"DS1iW\" src=\"https://encrypted-tbn0.gstatic.com/images?q=tbn:ANd9GcRMvHwclmL972Qs24cpT3exQNAtgtdYORqMmL6hIIgTCtw0LQZSF08K56vQBg&amp;s\"/></div></a></td></tr><tr><td><a href=\"/url?esrc=s&amp;q=&amp;rct=j&amp;sa=U&amp;url=https://www.teenvogue.com/story/cardi-b-explains-the-meaning-of-face-tattoo-unveils-new-one-on-instagram-live&amp;ved=2ahUKEwi8u-HUwoqFAxXoQEEAHSA2As0Qr4kDegQIERAC&amp;usg=AOvVaw2oOeNHjroSaPxdkfbcDMj3\"><div class=\"AlD19d\"> <span class=\"qXLe6d x3G5ab\"> <span class=\"fYyStc\">Cardi B Explains the...</span> </span> <span class=\"qXLe6d F9iS2e\"> <span class=\"fYyStc\">www.teenvogue.com</span> </span> </div></a></td></tr></table></div></div> </div> </div></td><td align=\"center\" class=\"e3goi\"><div class=\"jjVJ4e\"> <div> <div class=\"lIMUZd\"><div><table class=\"RntSmf\"><tr><td><a href=\"/url?esrc=s&amp;q=&amp;rct=j&amp;sa=U&amp;url=https://www.instagram.com/iamcardib/&amp;ved=2ahUKEwi8u-HUwoqFAxXoQEEAHSA2As0QqoUBegQIChAB&amp;usg=AOvVaw0yunGhi-AnAb-9Npn9eUGZ\"><div class=\"kCmkOe\"><img alt=\"\" class=\"DS1iW\" src=\"https://encrypted-tbn0.gstatic.com/images?q=tbn:ANd9GcTrD7BitHxA4J3zjLcJ-t29CaXxBDM8YmkGIS-wQ32DIM6No8DGW5a2ezoAoUE&amp;s\"/></div></a></td></tr><tr><td><a href=\"/url?esrc=s&amp;q=&amp;rct=j&amp;sa=U&amp;url=https://www.instagram.com/iamcardib/&amp;ved=2ahUKEwi8u-HUwoqFAxXoQEEAHSA2As0Qr4kDegQIChAC&amp;usg=AOvVaw2pO5LS4zDy7k9hD7FUs3bo\"><div class=\"AlD19d\"> <span class=\"qXLe6d x3G5ab\"> <span class=\"fYyStc\">Cardi B (@iamcardib) •...</span> </span> <span class=\"qXLe6d F9iS2e\"> <span class=\"fYyStc\">www.instagram.com</span> </span> </div></a></td></tr></table></div></div> </div> </div></td><td align=\"center\" class=\"e3goi\"><div class=\"jjVJ4e\"> <div> <div class=\"lIMUZd\"><div><table class=\"RntSmf\"><tr><td><a href=\"/url?esrc=s&amp;q=&amp;rct=j&amp;sa=U&amp;url=https://www.newsweek.com/cardi-b-quits-twitter-instagram-fans-grammys-no-show-las-vegas-1694598&amp;ved=2ahUKEwi8u-HUwoqFAxXoQEEAHSA2As0QqoUBegQIDxAB&amp;usg=AOvVaw3LN3BAKqRiArEFTtwzWfst\"><div class=\"kCmkOe\"><img alt=\"\" class=\"DS1iW\" src=\"https://encrypted-tbn0.gstatic.com/images?q=tbn:ANd9GcQzFIRENpCAFIdSII4MZ9eUNWz4a09gIZVpqt6F0XigyzSXwwfli-aoFhchS4w&amp;s\"/></div></a></td></tr><tr><td><a href=\"/url?esrc=s&amp;q=&amp;rct=j&amp;sa=U&amp;url=https://www.newsweek.com/cardi-b-quits-twitter-instagram-fans-grammys-no-show-las-vegas-1694598&amp;ved=2ahUKEwi8u-HUwoqFAxXoQEEAHSA2As0Qr4kDegQIDxAC&amp;usg=AOvVaw0bUtcJhV-MeiijYdfWMTo-\"><div class=\"AlD19d\"> <span class=\"qXLe6d x3G5ab\"> <span class=\"fYyStc\">Cardi B Quits Twitter,...</span> </span> <span class=\"qXLe6d F9iS2e\"> <span class=\"fYyStc\">www.newsweek.com</span> </span> </div></a></td></tr></table></div></div> </div> </div></td><td align=\"center\" class=\"e3goi\"><div class=\"jjVJ4e\"> <div> <div class=\"lIMUZd\"><div><table class=\"RntSmf\"><tr><td><a href=\"/url?esrc=s&amp;q=&amp;rct=j&amp;sa=U&amp;url=https://www.numero.com/en/music/cardi-b-unexpected-instagram-video-bernis-sanders-grammy-awards-carpool-karaoke-new-york-us-rap-hip-hop&amp;ved=2ahUKEwi8u-HUwoqFAxXoQEEAHSA2As0QqoUBegQICxAB&amp;usg=AOvVaw1UerfEJjtkmnqA2vF_8x6r\"><div class=\"kCmkOe\"><img alt=\"\" class=\"DS1iW\" src=\"https://encrypted-tbn0.gstatic.com/images?q=tbn:ANd9GcQX1ufGiaFcdgGvO5u59eylb-hTSjT3AvM5GQU7WvXVHnJ1zvjf66FJulDXIg&amp;s\"/></div></a></td></tr><tr><td><a href=\"/url?esrc=s&amp;q=&amp;rct=j&amp;sa=U&amp;url=https://www.numero.com/en/music/cardi-b-unexpected-instagram-video-bernis-sanders-grammy-awards-carpool-karaoke-new-york-us-rap-hip-hop&amp;ved=2ahUKEwi8u-HUwoqFAxXoQEEAHSA2As0Qr4kDegQICxAC&amp;usg=AOvVaw3S90TBVDOoVUWLFPp26ja1\"><div class=\"AlD19d\"> <span class=\"qXLe6d x3G5ab\"> <span class=\"fYyStc\">Cardi B in 10 unexpected...</span> </span> <span class=\"qXLe6d F9iS2e\"> <span class=\"fYyStc\">www.numero.com</span> </span> </div></a></td></tr></table></div></div> </div> </div></td></tr><tr><td align=\"center\" class=\"e3goi\"><div class=\"jjVJ4e\"> <div> <div class=\"lIMUZd\"><div><table class=\"RntSmf\"><tr><td><a href=\"/url?esrc=s&amp;q=&amp;rct=j&amp;sa=U&amp;url=https://www.billboard.com/lists/cardi-b-baby-shark-timeline/&amp;ved=2ahUKEwi8u-HUwoqFAxXoQEEAHSA2As0QqoUBegQICRAB&amp;usg=AOvVaw1InziB0EzZ84yCfdR7pvB2\"><div class=\"kCmkOe\"><img alt=\"\" class=\"DS1iW\" src=\"https://encrypted-tbn0.gstatic.com/images?q=tbn:ANd9GcSNvbEcrcrdGKLkjueGtjb4NYVPrFNzZbeBfvHNZuZEpnJAbi2HXbeh7TwhEXk&amp;s\"/></div></a></td></tr><tr><td><a href=\"/url?esrc=s&amp;q=&amp;rct=j&amp;sa=U&amp;url=https://www.billboard.com/lists/cardi-b-baby-shark-timeline/&amp;ved=2ahUKEwi8u-HUwoqFAxXoQEEAHSA2As0Qr4kDegQICRAC&amp;usg=AOvVaw2D7om57qufJBJd0-0mq7sH\"><div class=\"AlD19d\"> <span class=\"qXLe6d x3G5ab\"> <span class=\"fYyStc\">Cardi B's 'Baby Shark'...</span> </span> <span class=\"qXLe6d F9iS2e\"> <span class=\"fYyStc\">www.billboard.com</span> </span> </div></a></td></tr></table></div></div> </div> </div></td><td align=\"center\" class=\"e3goi\"><div class=\"jjVJ4e\"> <div> <div class=\"lIMUZd\"><div><table class=\"RntSmf\"><tr><td><a href=\"/url?esrc=s&amp;q=&amp;rct=j&amp;sa=U&amp;url=https://www.instagram.com/iamcardib/&amp;ved=2ahUKEwi8u-HUwoqFAxXoQEEAHSA2As0QqoUBegQIDBAB&amp;usg=AOvVaw2n0bFjpuKB6kXPNWijE8uj\"><div class=\"kCmkOe\"><img alt=\"\" class=\"DS1iW\" src=\"https://encrypted-tbn0.gstatic.com/images?q=tbn:ANd9GcTtLwlrD4MVYDJUViMbDbYmGUZcTSmor7F1RWugnTqGwwEDf3uriGhHBWZ9huA&amp;s\"/></div></a></td></tr><tr><td><a href=\"/url?esrc=s&amp;q=&amp;rct=j&amp;sa=U&amp;url=https://www.instagram.com/iamcardib/&amp;ved=2ahUKEwi8u-HUwoqFAxXoQEEAHSA2As0Qr4kDegQIDBAC&amp;usg=AOvVaw0DvCGVOLNP-UR5dyZ6dSvP\"><div class=\"AlD19d\"> <span class=\"qXLe6d x3G5ab\"> <span class=\"fYyStc\">Cardi B (@iamcardib) •...</span> </span> <span class=\"qXLe6d F9iS2e\"> <span class=\"fYyStc\">www.instagram.com</span> </span> </div></a></td></tr></table></div></div> </div> </div></td><td align=\"center\" class=\"e3goi\"><div class=\"jjVJ4e\"> <div> <div class=\"lIMUZd\"><div><table class=\"RntSmf\"><tr><td><a href=\"/url?esrc=s&amp;q=&amp;rct=j&amp;sa=U&amp;url=https://www.cosmopolitan.com/uk/body/health/a36860523/cardi-b-bump-picture/&amp;ved=2ahUKEwi8u-HUwoqFAxXoQEEAHSA2As0QqoUBegQIDhAB&amp;usg=AOvVaw2zfIg8JFqcmaW9GH1-jPP7\"><div class=\"kCmkOe\"><img alt=\"\" class=\"DS1iW\" src=\"https://encrypted-tbn0.gstatic.com/images?q=tbn:ANd9GcQW9YgwFF1QRvwZjRz4VrXX7uDY3U7qesR5AQ38eyg-WXgvA_ayQAJ2hL1KXQ&amp;s\"/></div></a></td></tr><tr><td><a href=\"/url?esrc=s&amp;q=&amp;rct=j&amp;sa=U&amp;url=https://www.cosmopolitan.com/uk/body/health/a36860523/cardi-b-bump-picture/&amp;ved=2ahUKEwi8u-HUwoqFAxXoQEEAHSA2As0Qr4kDegQIDhAC&amp;usg=AOvVaw3kMnLGCiD-mTRZs7sCNGJJ\"><div class=\"AlD19d\"> <span class=\"qXLe6d x3G5ab\"> <span class=\"fYyStc\">Cardi B posted her first...</span> </span> <span class=\"qXLe6d F9iS2e\"> <span class=\"fYyStc\">www.cosmopolitan.com</span> </span> </div></a></td></tr></table></div></div> </div> </div></td><td align=\"center\" class=\"e3goi\"><div class=\"jjVJ4e\"> <div> <div class=\"lIMUZd\"><div><table class=\"RntSmf\"><tr><td><a href=\"/url?esrc=s&amp;q=&amp;rct=j&amp;sa=U&amp;url=https://pagesix.com/2019/02/12/cardi-b-quits-instagram-following-drama-over-her-grammy-win/&amp;ved=2ahUKEwi8u-HUwoqFAxXoQEEAHSA2As0QqoUBegQIDRAB&amp;usg=AOvVaw3gFBURp9P7tvyQaohVLD6N\"><div class=\"kCmkOe\"><img alt=\"\" class=\"DS1iW\" src=\"https://encrypted-tbn0.gstatic.com/images?q=tbn:ANd9GcRDYFGIV4gQaezTdK5Xk5m5SatVkDGsjAVi87dDDxfFTGjGvoyjdnqNdsWW-A&amp;s\"/></div></a></td></tr><tr><td><a href=\"/url?esrc=s&amp;q=&amp;rct=j&amp;sa=U&amp;url=https://pagesix.com/2019/02/12/cardi-b-quits-instagram-following-drama-over-her-grammy-win/&amp;ved=2ahUKEwi8u-HUwoqFAxXoQEEAHSA2As0Qr4kDegQIDRAC&amp;usg=AOvVaw26pnjjzKs_PjeBRiuDJGpG\"><div class=\"AlD19d\"> <span class=\"qXLe6d x3G5ab\"> <span class=\"fYyStc\">Cardi B quits Instagram...</span> </span> <span class=\"qXLe6d F9iS2e\"> <span class=\"fYyStc\">pagesix.com</span> </span> </div></a></td></tr></table></div></div> </div> </div></td></tr><tr><td align=\"center\" class=\"e3goi\"><div class=\"jjVJ4e\"> <div> <div class=\"lIMUZd\"><div><table class=\"RntSmf\"><tr><td><a href=\"/url?esrc=s&amp;q=&amp;rct=j&amp;sa=U&amp;url=https://people.com/cardi-b-offset-unfollow-each-other-on-social-media-you-outgrow-relationships-8410812&amp;ved=2ahUKEwi8u-HUwoqFAxXoQEEAHSA2As0QqoUBegQIEBAB&amp;usg=AOvVaw2yQKTlyTZqOW923XAlYmoo\"><div class=\"kCmkOe\"><img alt=\"\" class=\"DS1iW\" src=\"https://encrypted-tbn0.gstatic.com/images?q=tbn:ANd9GcQYihOdLMUdRx9GL-qezm6G4m23NO451t29UNEIZunRWkncF4QsoWt55GhfYA&amp;s\"/></div></a></td></tr><tr><td><a href=\"/url?esrc=s&amp;q=&amp;rct=j&amp;sa=U&amp;url=https://people.com/cardi-b-offset-unfollow-each-other-on-social-media-you-outgrow-relationships-8410812&amp;ved=2ahUKEwi8u-HUwoqFAxXoQEEAHSA2As0Qr4kDegQIEBAC&amp;usg=AOvVaw1w6Ck-B_DDGaJziwLUCcfh\"><div class=\"AlD19d\"> <span class=\"qXLe6d x3G5ab\"> <span class=\"fYyStc\">Cardi B and Offset Unfollow...</span> </span> <span class=\"qXLe6d F9iS2e\"> <span class=\"fYyStc\">people.com</span> </span> </div></a></td></tr></table></div></div> </div> </div></td><td align=\"center\" class=\"e3goi\"><div class=\"jjVJ4e\"> <div> <div class=\"lIMUZd\"><div><table class=\"RntSmf\"><tr><td><a href=\"/url?esrc=s&amp;q=&amp;rct=j&amp;sa=U&amp;url=https://www.biography.com/musicians/cardi-b&amp;ved=2ahUKEwi8u-HUwoqFAxXoQEEAHSA2As0QqoUBegQIABAB&amp;usg=AOvVaw2TN7PHvaEtlIOmZm4hgP5y\"><div class=\"kCmkOe\"><img alt=\"\" class=\"DS1iW\" src=\"https://encrypted-tbn0.gstatic.com/images?q=tbn:ANd9GcTEeXZP9SiU55QZf6RJAPSttzXFV5-34zb_RnAZ67XZD5nYQgoFxENZcIh_6lo&amp;s\"/></div></a></td></tr><tr><td><a href=\"/url?esrc=s&amp;q=&amp;rct=j&amp;sa=U&amp;url=https://www.biography.com/musicians/cardi-b&amp;ved=2ahUKEwi8u-HUwoqFAxXoQEEAHSA2As0Qr4kDegQIABAC&amp;usg=AOvVaw3QCnJ_WnnvSmznMARBW3et\"><div class=\"AlD19d\"> <span class=\"qXLe6d x3G5ab\"> <span class=\"fYyStc\">Cardi B - Age, Offset &amp;...</span> </span> <span class=\"qXLe6d F9iS2e\"> <span class=\"fYyStc\">www.biography.com</span> </span> </div></a></td></tr></table></div></div> </div> </div></td><td align=\"center\" class=\"e3goi\"><div class=\"jjVJ4e\"> <div> <div class=\"lIMUZd\"><div><table class=\"RntSmf\"><tr><td><a href=\"/url?esrc=s&amp;q=&amp;rct=j&amp;sa=U&amp;url=https://www.billboard.com/music/music-news/cardi-b-sings-beyonce-texas-hold-em-fans-watch-1235636268/&amp;ved=2ahUKEwi8u-HUwoqFAxXoQEEAHSA2As0QqoUBegQIAhAB&amp;usg=AOvVaw25V0BaAVXZysfGi7ZDXTPk\"><div class=\"kCmkOe\"><img alt=\"\" class=\"DS1iW\" src=\"https://encrypted-tbn0.gstatic.com/images?q=tbn:ANd9GcSQEVvIXti91k67dqyz_7dxd6FMHLrXLVjp-T---4Az8MJDkKQDOCh1FpaiWA&amp;s\"/></div></a></td></tr><tr><td><a href=\"/url?esrc=s&amp;q=&amp;rct=j&amp;sa=U&amp;url=https://www.billboard.com/music/music-news/cardi-b-sings-beyonce-texas-hold-em-fans-watch-1235636268/&amp;ved=2ahUKEwi8u-HUwoqFAxXoQEEAHSA2As0Qr4kDegQIAhAC&amp;usg=AOvVaw1NKICV9bbApIEFBjKumGKO\"><div class=\"AlD19d\"> <span class=\"qXLe6d x3G5ab\"> <span class=\"fYyStc\">Cardi B Sings Beyonce's...</span> </span> <span class=\"qXLe6d F9iS2e\"> <span class=\"fYyStc\">www.billboard.com</span> </span> </div></a></td></tr></table></div></div> </div> </div></td><td align=\"center\" class=\"e3goi\"><div class=\"jjVJ4e\"> <div> <div class=\"lIMUZd\"><div><table class=\"RntSmf\"><tr><td><a href=\"/url?esrc=s&amp;q=&amp;rct=j&amp;sa=U&amp;url=https://www.dailymail.co.uk/tvshowbiz/article-12869545/Cardi-B-cries-split-Offset-Heartbroken-Instagram-Live.html&amp;ved=2ahUKEwi8u-HUwoqFAxXoQEEAHSA2As0QqoUBegQIARAB&amp;usg=AOvVaw0nKjerQ7ijCMfHJ7dSRsNy\"><div class=\"kCmkOe\"><img alt=\"\" class=\"DS1iW\" src=\"https://encrypted-tbn0.gstatic.com/images?q=tbn:ANd9GcTXHEUrSERl7WKknohdgoNbk402cuVemeeQPPNRAVO0zntG0HVRU1IBopVqXg&amp;s\"/></div></a></td></tr><tr><td><a href=\"/url?esrc=s&amp;q=&amp;rct=j&amp;sa=U&amp;url=https://www.dailymail.co.uk/tvshowbiz/article-12869545/Cardi-B-cries-split-Offset-Heartbroken-Instagram-Live.html&amp;ved=2ahUKEwi8u-HUwoqFAxXoQEEAHSA2As0Qr4kDegQIARAC&amp;usg=AOvVaw27WwrpLpr0fSpMnbhtonKt\"><div class=\"AlD19d\"> <span class=\"qXLe6d x3G5ab\"> <span class=\"fYyStc\">Cardi B breaks down in...</span> </span> <span class=\"qXLe6d F9iS2e\"> <span class=\"fYyStc\">www.dailymail.co.uk</span> </span> </div></a></td></tr></table></div></div> </div> </div></td></tr><tr><td align=\"center\" class=\"e3goi\"><div class=\"jjVJ4e\"> <div> <div class=\"lIMUZd\"><div><table class=\"RntSmf\"><tr><td><a href=\"/url?esrc=s&amp;q=&amp;rct=j&amp;sa=U&amp;url=https://www.rollingstone.com/music/music-news/cardi-b-trial-kevin-brophy-tattoo-cover-art-1234613183/&amp;ved=2ahUKEwi8u-HUwoqFAxXoQEEAHSA2As0QqoUBegQICBAB&amp;usg=AOvVaw3j4AVTBx33wGxJoBWrNtwU\"><div class=\"kCmkOe\"><img alt=\"\" class=\"DS1iW\" src=\"https://encrypted-tbn0.gstatic.com/images?q=tbn:ANd9GcTf2e4LbOlh8X5ogJMr0siNvuve9lEM14vyVGxkFLQdqDzlpjD88xUlYlvtwQ&amp;s\"/></div></a></td></tr><tr><td><a href=\"/url?esrc=s&amp;q=&amp;rct=j&amp;sa=U&amp;url=https://www.rollingstone.com/music/music-news/cardi-b-trial-kevin-brophy-tattoo-cover-art-1234613183/&amp;ved=2ahUKEwi8u-HUwoqFAxXoQEEAHSA2As0Qr4kDegQICBAC&amp;usg=AOvVaw1Zd6C3q_0EVNbHUVPSlHNu\"><div class=\"AlD19d\"> <span class=\"qXLe6d x3G5ab\"> <span class=\"fYyStc\">Cardi B on Trial After...</span> </span> <span class=\"qXLe6d F9iS2e\"> <span class=\"fYyStc\">www.rollingstone.com</span> </span> </div></a></td></tr></table></div></div> </div> </div></td><td align=\"center\" class=\"e3goi\"><div class=\"jjVJ4e\"> <div> <div class=\"lIMUZd\"><div><table class=\"RntSmf\"><tr><td><a href=\"/url?esrc=s&amp;q=&amp;rct=j&amp;sa=U&amp;url=https://www.harpersbazaar.com/celebrity/latest/g20634894/cardi-b-trivia-facts/&amp;ved=2ahUKEwi8u-HUwoqFAxXoQEEAHSA2As0QqoUBegQIBhAB&amp;usg=AOvVaw0042u98T9VcCA-r_-Piss4\"><div class=\"kCmkOe\"><img alt=\"\" class=\"DS1iW\" src=\"https://encrypted-tbn0.gstatic.com/images?q=tbn:ANd9GcQYzlYFYikt7c8CfGQHFnJkDwt2xOdydatUu1qcjS013_8_R6KIfZSBeEAB_Q&amp;s\"/></div></a></td></tr><tr><td><a href=\"/url?esrc=s&amp;q=&amp;rct=j&amp;sa=U&amp;url=https://www.harpersbazaar.com/celebrity/latest/g20634894/cardi-b-trivia-facts/&amp;ved=2ahUKEwi8u-HUwoqFAxXoQEEAHSA2As0Qr4kDegQIBhAC&amp;usg=AOvVaw2FKdP6ipjoIY7Oqg5yZBQJ\"><div class=\"AlD19d\"> <span class=\"qXLe6d x3G5ab\"> <span class=\"fYyStc\">Cardi B Facts - 45 Things...</span> </span> <span class=\"qXLe6d F9iS2e\"> <span class=\"fYyStc\">www.harpersbazaar.com</span> </span> </div></a></td></tr></table></div></div> </div> </div></td><td align=\"center\" class=\"e3goi\"><div class=\"jjVJ4e\"> <div> <div class=\"lIMUZd\"><div><table class=\"RntSmf\"><tr><td><a href=\"/url?esrc=s&amp;q=&amp;rct=j&amp;sa=U&amp;url=https://www.vanityfair.com/style/2020/10/cardi-b-deletes-twitter-offset-releationship&amp;ved=2ahUKEwi8u-HUwoqFAxXoQEEAHSA2As0QqoUBegQIAxAB&amp;usg=AOvVaw13U20S75fkHaEN4_c6DypZ\"><div class=\"kCmkOe\"><img alt=\"\" class=\"DS1iW\" src=\"https://encrypted-tbn0.gstatic.com/images?q=tbn:ANd9GcSs9pAnQ2pkH2hUrt-9MBWQaj-UHIiFktWvCdh2CHa5OB7rCNhnA2oYVCnpAqE&amp;s\"/></div></a></td></tr><tr><td><a href=\"/url?esrc=s&amp;q=&amp;rct=j&amp;sa=U&amp;url=https://www.vanityfair.com/style/2020/10/cardi-b-deletes-twitter-offset-releationship&amp;ved=2ahUKEwi8u-HUwoqFAxXoQEEAHSA2As0Qr4kDegQIAxAC&amp;usg=AOvVaw0tPtzWwNCfq5YMAcVeoQ8x\"><div class=\"AlD19d\"> <span class=\"qXLe6d x3G5ab\"> <span class=\"fYyStc\">Cardi B Has Deleted Her...</span> </span> <span class=\"qXLe6d F9iS2e\"> <span class=\"fYyStc\">www.vanityfair.com</span> </span> </div></a></td></tr></table></div></div> </div> </div></td><td align=\"center\" class=\"e3goi\"><div class=\"jjVJ4e\"> <div> <div class=\"lIMUZd\"><div><table class=\"RntSmf\"><tr><td><a href=\"/url?esrc=s&amp;q=&amp;rct=j&amp;sa=U&amp;url=https://news.sky.com/story/cardi-b-reveals-shes-pregnant-with-baby-number-two-during-bet-awards-performance-and-in-naked-bump-instagram-post-12343729&amp;ved=2ahUKEwi8u-HUwoqFAxXoQEEAHSA2As0QqoUBegQIBRAB&amp;usg=AOvVaw0XMrYLbfsVE8EuVb187YSb\"><div class=\"kCmkOe\"><img alt=\"\" class=\"DS1iW\" src=\"https://encrypted-tbn0.gstatic.com/images?q=tbn:ANd9GcQZk5apCTKGO2QZPikbmivSjEZSs0G_HopWlyJMlHUyTPi6ApI8aLg8Nv_miCc&amp;s\"/></div></a></td></tr><tr><td><a href=\"/url?esrc=s&amp;q=&amp;rct=j&amp;sa=U&amp;url=https://news.sky.com/story/cardi-b-reveals-shes-pregnant-with-baby-number-two-during-bet-awards-performance-and-in-naked-bump-instagram-post-12343729&amp;ved=2ahUKEwi8u-HUwoqFAxXoQEEAHSA2As0Qr4kDegQIBRAC&amp;usg=AOvVaw2gsNReliWeUUh2ZtzIKbT5\"><div class=\"AlD19d\"> <span class=\"qXLe6d x3G5ab\"> <span class=\"fYyStc\">Cardi B reveals she's...</span> </span> <span class=\"qXLe6d F9iS2e\"> <span class=\"fYyStc\">news.sky.com</span> </span> </div></a></td></tr></table></div></div> </div> </div></td></tr><tr><td align=\"center\" class=\"e3goi\"><div> <div> <div class=\"lIMUZd\"><div> <div> <div> <table class=\"HH539\"> <tbody> <tr> <td class=\"aJxI8c B5idHd LOZOx\"> <div class=\"bJHk6c\"> <span class=\"qXLe6d FrIlee\"> <span class=\"fYyStc YVIcad\">Some results may have been removed under data protection law in Europe. </span> <a class=\"M3vVJe\" href=\"/url?esrc=s&amp;q=&amp;rct=j&amp;sa=U&amp;url=https://www.google.com/policies/faq&amp;ved=2ahUKEwi8u-HUwoqFAxXoQEEAHSA2As0Q2Dx6BAgHEAI&amp;usg=AOvVaw1cwxp9jU5WT7vCsGFPo_Cn\">Learn more</a> </span> </div> </td> </tr> </tbody> </table> </div> <div class=\"IcoMSe\"> </div> </div> </div></div> </div> </div></td></tr></table></div><table class=\"uZgmoc\"><tbody><td><a class=\"frGj1b\" href=\"/search?q=cardi+b&amp;sca_esv=18fae8d458e6cfdd&amp;biw=1536&amp;bih=730&amp;tbm=isch&amp;ei=MN3-ZbzjKuiBhbIPoOyI6Aw&amp;start=20&amp;sa=N\">Next &gt;</a></td></tbody></table><br/><div class=\"TuS8Ad\" data-ved=\"0ahUKEwi8u-HUwoqFAxXoQEEAHSA2As0QpyoIVQ\"><style>.VYM29{font-weight:bold}</style><div align=\"center\" class=\"HddGcc\"><span class=\"VYM29\">ST6, Stoke-on-Trent</span><span> - </span><span>From your IP address</span><span> - </span><a href=\"/url?url=https://support.google.com/websearch%3Fp%3Dws_settings_location%26hl%3Den-GB&amp;rct=j&amp;q=&amp;esrc=s&amp;opi=89978449&amp;sa=U&amp;ved=0ahUKEwi8u-HUwoqFAxXoQEEAHSA2As0Qty4IVg&amp;usg=AOvVaw0t3umLUaanErneykntzX8p\">Learn more</a></div><div align=\"center\"><a class=\"rEM8G\" href=\"/url?url=https://accounts.google.com/ServiceLogin%3Fcontinue%3Dhttps://www.google.com/search%253Fsca_esv%253D18fae8d458e6cfdd%2526sxsrf%253DACQVn0-9U0C7ww_kAGVhqsgvYRJJ85mhJw:1711201301768%2526q%253Dcardi%252Bb%2526tbm%253Disch%2526source%253Dlnms%2526prmd%253Divnmbtz%2526sa%253DX%2526ved%253D2ahUKEwihn-zNwYqFAxWiQEEAHSZEDlMQ0pQJegQIDBAB%2526biw%253D1536%2526bih%253D730%2526dpr%253D1.25%26hl%3Den&amp;rct=j&amp;q=&amp;esrc=s&amp;opi=89978449&amp;sa=U&amp;ved=0ahUKEwi8u-HUwoqFAxXoQEEAHSA2As0Qxs8CCFc&amp;usg=AOvVaw1WcofNofFcIHlCZkkstdDL\">Sign in</a></div><div><table class=\"bookcf\"><tbody class=\"InWNIe\"><tr><td><a class=\"rEM8G\" href=\"https://www.google.com/preferences?hl=en&amp;sa=X&amp;ved=0ahUKEwi8u-HUwoqFAxXoQEEAHSA2As0Qv5YECFg\">Settings</a></td><td><a class=\"rEM8G\" href=\"https://www.google.com/intl/en_uk/policies/privacy/\">Privacy</a></td><td><a class=\"rEM8G\" href=\"https://www.google.com/intl/en_uk/policies/terms/\">Terms</a></td></tr></tbody></table></div></div><div> </div></body></html>"
      ]
     },
     "execution_count": 6,
     "metadata": {},
     "output_type": "execute_result"
    }
   ],
   "source": [
    "search_html"
   ]
  },
  {
   "cell_type": "code",
   "execution_count": 7,
   "metadata": {},
   "outputs": [],
   "source": [
    "images = search_html.find_all('img') # pick out all the images from the web page"
   ]
  },
  {
   "cell_type": "code",
   "execution_count": 8,
   "metadata": {},
   "outputs": [
    {
     "data": {
      "text/plain": [
       "21"
      ]
     },
     "execution_count": 8,
     "metadata": {},
     "output_type": "execute_result"
    }
   ],
   "source": [
    "len(images)"
   ]
  },
  {
   "cell_type": "code",
   "execution_count": 33,
   "metadata": {},
   "outputs": [],
   "source": [
    "image_list = []\n",
    "for i in images[1:]: # now we have all the image links\n",
    "    il= i['src'] # get image url\n",
    "    id = requests.get(il).content\n",
    "    my_dict = {\"index\" : il , \"image\" : id} # store url and data in this variable\n",
    "    image_list.append(my_dict) #append to list we have created earlier\n",
    "    with open(os.path.join(save_dir,f\"{search}_{images.index(i)}.jpg\") , \"wb\") as f : #save file in sav_dir folder in naming format shown\n",
    "                           f.write(id)"
   ]
  },
  {
   "cell_type": "code",
   "execution_count": 24,
   "metadata": {},
   "outputs": [
    {
     "data": {
      "text/plain": [
       "'C:\\\\Users\\\\obemb\\\\Downloads\\\\Sudanshu\\\\DataScience-2024'"
      ]
     },
     "execution_count": 24,
     "metadata": {},
     "output_type": "execute_result"
    }
   ],
   "source": [
    "pwd()"
   ]
  },
  {
   "cell_type": "code",
   "execution_count": 25,
   "metadata": {},
   "outputs": [],
   "source": [
    "# check if the below directory exists, if not create it\n",
    "save_dir = \"images/\"\n",
    "if not os.path.exists(save_dir):\n",
    "    os.makedirs(save_dir)"
   ]
  },
  {
   "cell_type": "code",
   "execution_count": null,
   "metadata": {},
   "outputs": [],
   "source": []
  }
 ],
 "metadata": {
  "kernelspec": {
   "display_name": "Python 3",
   "language": "python",
   "name": "python3"
  },
  "language_info": {
   "codemirror_mode": {
    "name": "ipython",
    "version": 3
   },
   "file_extension": ".py",
   "mimetype": "text/x-python",
   "name": "python",
   "nbconvert_exporter": "python",
   "pygments_lexer": "ipython3",
   "version": "3.8.3"
  }
 },
 "nbformat": 4,
 "nbformat_minor": 4
}

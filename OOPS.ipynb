{
 "cells": [
  {
   "cell_type": "markdown",
   "metadata": {},
   "source": [
    "## OOPS\n",
    "\"OOPS\" stands for Object Oriented Programming"
   ]
  },
  {
   "cell_type": "code",
   "execution_count": 3,
   "metadata": {},
   "outputs": [
    {
     "data": {
      "text/plain": [
       "int"
      ]
     },
     "execution_count": 3,
     "metadata": {},
     "output_type": "execute_result"
    }
   ],
   "source": [
    "a = 1\n",
    "type(a) # a is an object/instance of the integer class"
   ]
  },
  {
   "cell_type": "code",
   "execution_count": 7,
   "metadata": {},
   "outputs": [
    {
     "data": {
      "text/plain": [
       "__main__.test"
      ]
     },
     "execution_count": 7,
     "metadata": {},
     "output_type": "execute_result"
    }
   ],
   "source": [
    "a1 = test() # assigning a1 to the test class\n",
    "type(a1) # now a1 is an object of test"
   ]
  },
  {
   "cell_type": "markdown",
   "metadata": {},
   "source": [
    "By assigning an object to a class, they now inherit functions(methods) of that class"
   ]
  },
  {
   "cell_type": "code",
   "execution_count": 8,
   "metadata": {},
   "outputs": [],
   "source": [
    "class test1:\n",
    "    def welcome_message(self):#self is the pointer\n",
    "        print(\"welcome to my first class\")"
   ]
  },
  {
   "cell_type": "code",
   "execution_count": 12,
   "metadata": {},
   "outputs": [],
   "source": [
    "a = test1() # assigning a to the test1 class"
   ]
  },
  {
   "cell_type": "code",
   "execution_count": 10,
   "metadata": {},
   "outputs": [
    {
     "data": {
      "text/plain": [
       "__main__.test1"
      ]
     },
     "execution_count": 10,
     "metadata": {},
     "output_type": "execute_result"
    }
   ],
   "source": [
    "type(a)"
   ]
  },
  {
   "cell_type": "code",
   "execution_count": 11,
   "metadata": {},
   "outputs": [
    {
     "name": "stdout",
     "output_type": "stream",
     "text": [
      "welcome to my first class\n"
     ]
    }
   ],
   "source": [
    "a.welcome_message()"
   ]
  },
  {
   "cell_type": "code",
   "execution_count": 23,
   "metadata": {},
   "outputs": [],
   "source": [
    "# constructors allow class objects to hold different values\n",
    "class test2:\n",
    "    def __init__(self, telephone, email_address, student_id): #init is constructor this is where you define the variables for the class\n",
    "   #you can have as many variables as you like within a class\n",
    "    # defining the class parameters or arguments\n",
    "        self.tel = telephone # note self is just a pointer you can call the pointer whatever you want \n",
    "        self.email = email_address\n",
    "        self.id = student_id\n",
    "        \n",
    "    def details(self): #function of the class\n",
    "        return self.tel, self.email, self.id\n",
    "    "
   ]
  },
  {
   "cell_type": "code",
   "execution_count": 24,
   "metadata": {},
   "outputs": [],
   "source": [
    "a2 = test2(7126382503, 'ope@in.com', 2) "
   ]
  },
  {
   "cell_type": "code",
   "execution_count": 25,
   "metadata": {},
   "outputs": [
    {
     "data": {
      "text/plain": [
       "'ope@in.com'"
      ]
     },
     "execution_count": 25,
     "metadata": {},
     "output_type": "execute_result"
    }
   ],
   "source": [
    "a2.email"
   ]
  },
  {
   "cell_type": "code",
   "execution_count": 16,
   "metadata": {},
   "outputs": [
    {
     "data": {
      "text/plain": [
       "2"
      ]
     },
     "execution_count": 16,
     "metadata": {},
     "output_type": "execute_result"
    }
   ],
   "source": [
    "a2.id"
   ]
  },
  {
   "cell_type": "code",
   "execution_count": 17,
   "metadata": {},
   "outputs": [
    {
     "data": {
      "text/plain": [
       "7126382503"
      ]
     },
     "execution_count": 17,
     "metadata": {},
     "output_type": "execute_result"
    }
   ],
   "source": [
    "a2.tel"
   ]
  },
  {
   "cell_type": "code",
   "execution_count": 19,
   "metadata": {},
   "outputs": [
    {
     "data": {
      "text/plain": [
       "(7126382503, 'ope@in.com', 2)"
      ]
     },
     "execution_count": 19,
     "metadata": {},
     "output_type": "execute_result"
    }
   ],
   "source": [
    "a2.details()"
   ]
  },
  {
   "cell_type": "code",
   "execution_count": 30,
   "metadata": {},
   "outputs": [],
   "source": [
    "# pointers are just conventions used when creating classes in python\n",
    "class test3:\n",
    "    def __init__(pointer, telephone, email_address, student_id): #init is constructor this is where you define the variables for the class\n",
    "   #you can have as many variables as you like within a class\n",
    "        pointer.tel = telephone # note self is just a pointer you can call the pointer whatever you want \n",
    "        pointer.email = email_address \n",
    "        pointer.id = student_id\n",
    "        \n",
    "    def details(pointer): #function of the class\n",
    "        return pointer.tel, pointer.email, pointer.id\n",
    "    "
   ]
  },
  {
   "cell_type": "code",
   "execution_count": 28,
   "metadata": {},
   "outputs": [],
   "source": [
    "a3 = test3(7126382503, 'ope@in.com', 2) "
   ]
  },
  {
   "cell_type": "code",
   "execution_count": 29,
   "metadata": {},
   "outputs": [
    {
     "data": {
      "text/plain": [
       "(7126382503, 'ope@in.com', 2)"
      ]
     },
     "execution_count": 29,
     "metadata": {},
     "output_type": "execute_result"
    }
   ],
   "source": [
    "a3.details()"
   ]
  },
  {
   "cell_type": "code",
   "execution_count": 31,
   "metadata": {},
   "outputs": [
    {
     "data": {
      "text/plain": [
       "7126382503"
      ]
     },
     "execution_count": 31,
     "metadata": {},
     "output_type": "execute_result"
    }
   ],
   "source": [
    "a3.tel"
   ]
  },
  {
   "cell_type": "code",
   "execution_count": 43,
   "metadata": {},
   "outputs": [],
   "source": [
    "# pointers are just conventions used when creating classes in python\n",
    "class test4:\n",
    "    def __init__(pointer, telephone, email_address, student_id): #init is constructor this is where you define the variables for the class\n",
    "   #you can have as many variables as you like within a class\n",
    "        pointer.a = telephone # note self is just a pointer you can call the pointer whatever you want \n",
    "        pointer.b = email_address \n",
    "        pointer.c = student_id\n",
    "        \n",
    "    def details(pointer): #function of the class\n",
    "        return pointer.telephone, pointer.email_address, pointer.student_id\n",
    "    "
   ]
  },
  {
   "cell_type": "code",
   "execution_count": 44,
   "metadata": {},
   "outputs": [],
   "source": [
    "a4 = test4(7126382503, 'ope@in.com', 2) "
   ]
  },
  {
   "cell_type": "code",
   "execution_count": 45,
   "metadata": {},
   "outputs": [
    {
     "ename": "AttributeError",
     "evalue": "'test4' object has no attribute 'telephone'",
     "output_type": "error",
     "traceback": [
      "\u001b[1;31m---------------------------------------------------------------------------\u001b[0m",
      "\u001b[1;31mAttributeError\u001b[0m                            Traceback (most recent call last)",
      "\u001b[1;32m<ipython-input-45-d4b0750038da>\u001b[0m in \u001b[0;36m<module>\u001b[1;34m\u001b[0m\n\u001b[1;32m----> 1\u001b[1;33m \u001b[0ma4\u001b[0m\u001b[1;33m.\u001b[0m\u001b[0mdetails\u001b[0m\u001b[1;33m(\u001b[0m\u001b[1;33m)\u001b[0m\u001b[1;33m\u001b[0m\u001b[1;33m\u001b[0m\u001b[0m\n\u001b[0m",
      "\u001b[1;32m<ipython-input-43-1d1dae3728cc>\u001b[0m in \u001b[0;36mdetails\u001b[1;34m(pointer)\u001b[0m\n\u001b[0;32m      8\u001b[0m \u001b[1;33m\u001b[0m\u001b[0m\n\u001b[0;32m      9\u001b[0m     \u001b[1;32mdef\u001b[0m \u001b[0mdetails\u001b[0m\u001b[1;33m(\u001b[0m\u001b[0mpointer\u001b[0m\u001b[1;33m)\u001b[0m\u001b[1;33m:\u001b[0m \u001b[1;31m#function of the class\u001b[0m\u001b[1;33m\u001b[0m\u001b[1;33m\u001b[0m\u001b[0m\n\u001b[1;32m---> 10\u001b[1;33m         \u001b[1;32mreturn\u001b[0m \u001b[0mpointer\u001b[0m\u001b[1;33m.\u001b[0m\u001b[0mtelephone\u001b[0m\u001b[1;33m,\u001b[0m \u001b[0mpointer\u001b[0m\u001b[1;33m.\u001b[0m\u001b[0memail_address\u001b[0m\u001b[1;33m,\u001b[0m \u001b[0mpointer\u001b[0m\u001b[1;33m.\u001b[0m\u001b[0mstudent_id\u001b[0m\u001b[1;33m\u001b[0m\u001b[1;33m\u001b[0m\u001b[0m\n\u001b[0m\u001b[0;32m     11\u001b[0m \u001b[1;33m\u001b[0m\u001b[0m\n",
      "\u001b[1;31mAttributeError\u001b[0m: 'test4' object has no attribute 'telephone'"
     ]
    }
   ],
   "source": [
    "a4.details()"
   ]
  },
  {
   "cell_type": "code",
   "execution_count": 39,
   "metadata": {},
   "outputs": [],
   "source": [
    "# pointers are just conventions used when creating classes in python\n",
    "class test4:\n",
    "    def __init__(pointer, telephone, email_address, student_id): #init is constructor this is where you define the variables for the class\n",
    "   #you can have as many variables as you like within a class\n",
    "        pointer.a = telephone # note self is just a pointer you can call the pointer whatever you want \n",
    "        pointer.b = email_address \n",
    "        pointer.c = student_id\n",
    "        \n",
    "    def details(pointer): #function of the class\n",
    "        return pointer.a, pointer.b, pointer.c\n",
    "    "
   ]
  },
  {
   "cell_type": "code",
   "execution_count": 41,
   "metadata": {},
   "outputs": [],
   "source": [
    "a4 = test4(7126382503, 'ope@in.com', 2) "
   ]
  },
  {
   "cell_type": "code",
   "execution_count": 42,
   "metadata": {},
   "outputs": [
    {
     "data": {
      "text/plain": [
       "(7126382503, 'ope@in.com', 2)"
      ]
     },
     "execution_count": 42,
     "metadata": {},
     "output_type": "execute_result"
    }
   ],
   "source": [
    "a4.details()"
   ]
  },
  {
   "cell_type": "markdown",
   "metadata": {},
   "source": [
    "## Polymorphism"
   ]
  },
  {
   "cell_type": "markdown",
   "metadata": {},
   "source": [
    "This is a concept whereby a funtion behaves differently in different circumstances e.g. depending on the data passed to it"
   ]
  },
  {
   "cell_type": "code",
   "execution_count": 1,
   "metadata": {},
   "outputs": [],
   "source": [
    "# the behaviour of the below functions shows a property of polymorphism\n",
    "def test(a,b):\n",
    "    return a+b"
   ]
  },
  {
   "cell_type": "code",
   "execution_count": 2,
   "metadata": {},
   "outputs": [
    {
     "data": {
      "text/plain": [
       "9"
      ]
     },
     "execution_count": 2,
     "metadata": {},
     "output_type": "execute_result"
    }
   ],
   "source": [
    "test(4,5) #when you pass integers, the addition operation is performed"
   ]
  },
  {
   "cell_type": "code",
   "execution_count": 4,
   "metadata": {},
   "outputs": [
    {
     "data": {
      "text/plain": [
       "'opecosta'"
      ]
     },
     "execution_count": 4,
     "metadata": {},
     "output_type": "execute_result"
    }
   ],
   "source": [
    "test('ope','costa') #when you pass strings, a concatenation operation is performed"
   ]
  },
  {
   "cell_type": "code",
   "execution_count": 6,
   "metadata": {},
   "outputs": [
    {
     "data": {
      "text/plain": [
       "['ope', 1, 2, 3]"
      ]
     },
     "execution_count": 6,
     "metadata": {},
     "output_type": "execute_result"
    }
   ],
   "source": [
    "test(['ope'],[1,2,3])"
   ]
  },
  {
   "cell_type": "code",
   "execution_count": 48,
   "metadata": {},
   "outputs": [],
   "source": [
    "class data_science:\n",
    "    def syllabus(self):\n",
    "        print('method for data science syllabus')"
   ]
  },
  {
   "cell_type": "code",
   "execution_count": 49,
   "metadata": {},
   "outputs": [],
   "source": [
    "class math:\n",
    "    def syllabus(self):\n",
    "        print('method for math syllabus')"
   ]
  },
  {
   "cell_type": "code",
   "execution_count": 50,
   "metadata": {},
   "outputs": [],
   "source": [
    "def class_parser(class_obj):\n",
    "    for i  in class_obj:\n",
    "        i.syllabus()"
   ]
  },
  {
   "cell_type": "code",
   "execution_count": 10,
   "metadata": {},
   "outputs": [],
   "source": [
    "a = data_science()"
   ]
  },
  {
   "cell_type": "code",
   "execution_count": 11,
   "metadata": {},
   "outputs": [],
   "source": [
    "b= math()"
   ]
  },
  {
   "cell_type": "code",
   "execution_count": 53,
   "metadata": {},
   "outputs": [
    {
     "name": "stdout",
     "output_type": "stream",
     "text": [
      "method for math syllabus\n"
     ]
    }
   ],
   "source": [
    "class_parser([math()])"
   ]
  },
  {
   "cell_type": "code",
   "execution_count": 14,
   "metadata": {},
   "outputs": [
    {
     "name": "stdout",
     "output_type": "stream",
     "text": [
      "method for data science syllabus\n",
      "method for math syllabus\n"
     ]
    }
   ],
   "source": [
    "'''the behaviour of the below function shows polymorphism as it behaves differently based on what object is passed to it\n",
    "even though the same function is being called and this is how polymorphism can be performed with respect to classes in \n",
    "python OOP'''\n",
    "class_parser([a,b])"
   ]
  },
  {
   "cell_type": "markdown",
   "metadata": {},
   "source": [
    "### Encapsulation\n",
    "\n",
    "This is a way to hide (capsule) the variables/objects within a class."
   ]
  },
  {
   "cell_type": "code",
   "execution_count": 1,
   "metadata": {},
   "outputs": [],
   "source": [
    "class test:\n",
    "    def __init__(self,a,b): #init functions allows you to pass data to your class\n",
    "        self.a = a\n",
    "        self.b = b"
   ]
  },
  {
   "cell_type": "code",
   "execution_count": 3,
   "metadata": {},
   "outputs": [],
   "source": [
    "t = test(20,25)"
   ]
  },
  {
   "cell_type": "code",
   "execution_count": 4,
   "metadata": {},
   "outputs": [
    {
     "data": {
      "text/plain": [
       "20"
      ]
     },
     "execution_count": 4,
     "metadata": {},
     "output_type": "execute_result"
    }
   ],
   "source": [
    "t.a"
   ]
  },
  {
   "cell_type": "code",
   "execution_count": 5,
   "metadata": {},
   "outputs": [
    {
     "data": {
      "text/plain": [
       "25"
      ]
     },
     "execution_count": 5,
     "metadata": {},
     "output_type": "execute_result"
    }
   ],
   "source": [
    "t.b"
   ]
  },
  {
   "cell_type": "code",
   "execution_count": 9,
   "metadata": {},
   "outputs": [],
   "source": [
    "t.a = 35 #being able to access the object of a class is dangerous and not ideal as it can change the behaviour of methods within it"
   ]
  },
  {
   "cell_type": "code",
   "execution_count": 10,
   "metadata": {},
   "outputs": [
    {
     "data": {
      "text/plain": [
       "35"
      ]
     },
     "execution_count": 10,
     "metadata": {},
     "output_type": "execute_result"
    }
   ],
   "source": [
    "t.a # you should not be able to modify/access the class objects"
   ]
  },
  {
   "cell_type": "code",
   "execution_count": 17,
   "metadata": {},
   "outputs": [],
   "source": [
    "# let us explore preventing the above issue\n",
    "class car:\n",
    "    def __init__(self, year, make,model,speed):\n",
    "        self.__year = year # by using double underscore, you are making the objects private. This is encapsulation\n",
    "        self.__make = make\n",
    "        self.__model = model\n",
    "        self.__speed = 0"
   ]
  },
  {
   "cell_type": "code",
   "execution_count": 15,
   "metadata": {},
   "outputs": [],
   "source": [
    "a = car(2000,'vauxhall','astra',220)"
   ]
  },
  {
   "cell_type": "code",
   "execution_count": 19,
   "metadata": {},
   "outputs": [
    {
     "ename": "AttributeError",
     "evalue": "'car' object has no attribute '__year'",
     "output_type": "error",
     "traceback": [
      "\u001b[1;31m---------------------------------------------------------------------------\u001b[0m",
      "\u001b[1;31mAttributeError\u001b[0m                            Traceback (most recent call last)",
      "\u001b[1;32m<ipython-input-19-e3b826c65162>\u001b[0m in \u001b[0;36m<module>\u001b[1;34m\u001b[0m\n\u001b[1;32m----> 1\u001b[1;33m \u001b[0ma\u001b[0m\u001b[1;33m.\u001b[0m\u001b[0m__year\u001b[0m \u001b[1;31m# a random person cannot access it\u001b[0m\u001b[1;33m\u001b[0m\u001b[1;33m\u001b[0m\u001b[0m\n\u001b[0m",
      "\u001b[1;31mAttributeError\u001b[0m: 'car' object has no attribute '__year'"
     ]
    }
   ],
   "source": [
    "a.__year # a random person cannot access it"
   ]
  },
  {
   "cell_type": "code",
   "execution_count": 20,
   "metadata": {},
   "outputs": [
    {
     "ename": "AttributeError",
     "evalue": "'car' object has no attribute '__make'",
     "output_type": "error",
     "traceback": [
      "\u001b[1;31m---------------------------------------------------------------------------\u001b[0m",
      "\u001b[1;31mAttributeError\u001b[0m                            Traceback (most recent call last)",
      "\u001b[1;32m<ipython-input-20-b34f29807584>\u001b[0m in \u001b[0;36m<module>\u001b[1;34m\u001b[0m\n\u001b[1;32m----> 1\u001b[1;33m \u001b[0ma\u001b[0m\u001b[1;33m.\u001b[0m\u001b[0m__make\u001b[0m \u001b[1;31m# a random person cannot access it\u001b[0m\u001b[1;33m\u001b[0m\u001b[1;33m\u001b[0m\u001b[0m\n\u001b[0m",
      "\u001b[1;31mAttributeError\u001b[0m: 'car' object has no attribute '__make'"
     ]
    }
   ],
   "source": [
    "a.__make # a random person cannot access it"
   ]
  },
  {
   "cell_type": "code",
   "execution_count": 26,
   "metadata": {},
   "outputs": [
    {
     "data": {
      "text/plain": [
       "2000"
      ]
     },
     "execution_count": 26,
     "metadata": {},
     "output_type": "execute_result"
    }
   ],
   "source": [
    "# only someone who knows the class and object name (e.g. code author) can access it or change it\n",
    "a._car__year"
   ]
  },
  {
   "cell_type": "code",
   "execution_count": 27,
   "metadata": {},
   "outputs": [
    {
     "data": {
      "text/plain": [
       "0"
      ]
     },
     "execution_count": 27,
     "metadata": {},
     "output_type": "execute_result"
    }
   ],
   "source": [
    "a._car__speed"
   ]
  },
  {
   "cell_type": "markdown",
   "metadata": {},
   "source": [
    "The above is what we mean by encapsulation i.e. hiding the variables of a class so that they not accessible to the general\n",
    "public"
   ]
  },
  {
   "cell_type": "code",
   "execution_count": 35,
   "metadata": {},
   "outputs": [],
   "source": [
    "# you can create a function/method within the class which updates the variables\n",
    "class car:\n",
    "    def __init__(self, year, make,model,speed):\n",
    "        self.__year = year # by using double underscore, you are making the objects private\n",
    "        self.__make = make\n",
    "        self.__model = model\n",
    "        self.__speed = 0\n",
    "    \n",
    "    def set_speed(self,v): # function for updating speed if you want user to be able to do this\n",
    "        self.__speed = 0 if v<0 else v\n",
    "        \n",
    "    def get_speed(self): # a function to give you speed value\n",
    "        return self.__speed"
   ]
  },
  {
   "cell_type": "code",
   "execution_count": 36,
   "metadata": {},
   "outputs": [],
   "source": [
    " a = car(2000,'vauxhall','astra',220)"
   ]
  },
  {
   "cell_type": "code",
   "execution_count": 43,
   "metadata": {},
   "outputs": [],
   "source": [
    "a.set_speed(565) # calling set speeed function\n",
    "#This is the only way a user would be able to change the variables of the class if encapsulated\n",
    "# i.e. if there is a function that allows this  otherwise, it will not be possible"
   ]
  },
  {
   "cell_type": "code",
   "execution_count": 41,
   "metadata": {},
   "outputs": [
    {
     "data": {
      "text/plain": [
       "565"
      ]
     },
     "execution_count": 41,
     "metadata": {},
     "output_type": "execute_result"
    }
   ],
   "source": [
    "a.get_speed() # this way a user can see value of speed"
   ]
  },
  {
   "cell_type": "code",
   "execution_count": 47,
   "metadata": {},
   "outputs": [],
   "source": [
    "class bank_account:\n",
    "    def __init__(self,balance):\n",
    "        self.__bal = balance #definig bal as a private variable so only known to code author\n",
    "    \n",
    "    def deposit(self,amount): # public function which updates balance when a deposit is made\n",
    "        self.__bal = self.__bal + amount\n",
    "        \n",
    "    def withdrawal(self, amount):  # public function which updates balance when a withdrawal is made\n",
    "        if self.__bal >= amount:\n",
    "            self.__bal = self.__bal - amount\n",
    "            return True\n",
    "        else: \n",
    "            return 'Insufficient Funds'\n",
    "    \n",
    "    def get_balance(self): # public function which tells you current balance\n",
    "        return self.__bal"
   ]
  },
  {
   "cell_type": "code",
   "execution_count": 48,
   "metadata": {},
   "outputs": [],
   "source": [
    "costa = bank_account(1000)"
   ]
  },
  {
   "cell_type": "code",
   "execution_count": 49,
   "metadata": {},
   "outputs": [
    {
     "data": {
      "text/plain": [
       "1000"
      ]
     },
     "execution_count": 49,
     "metadata": {},
     "output_type": "execute_result"
    }
   ],
   "source": [
    "costa.get_balance()"
   ]
  },
  {
   "cell_type": "code",
   "execution_count": 50,
   "metadata": {},
   "outputs": [],
   "source": [
    "costa.deposit(50)"
   ]
  },
  {
   "cell_type": "code",
   "execution_count": 51,
   "metadata": {},
   "outputs": [
    {
     "data": {
      "text/plain": [
       "1050"
      ]
     },
     "execution_count": 51,
     "metadata": {},
     "output_type": "execute_result"
    }
   ],
   "source": [
    "costa.get_balance()"
   ]
  },
  {
   "cell_type": "code",
   "execution_count": 52,
   "metadata": {},
   "outputs": [
    {
     "data": {
      "text/plain": [
       "'Insufficient Funds'"
      ]
     },
     "execution_count": 52,
     "metadata": {},
     "output_type": "execute_result"
    }
   ],
   "source": [
    "costa.withdrawal(2000)"
   ]
  },
  {
   "cell_type": "code",
   "execution_count": 53,
   "metadata": {},
   "outputs": [
    {
     "data": {
      "text/plain": [
       "1050"
      ]
     },
     "execution_count": 53,
     "metadata": {},
     "output_type": "execute_result"
    }
   ],
   "source": [
    "costa.get_balance()"
   ]
  },
  {
   "cell_type": "markdown",
   "metadata": {},
   "source": [
    "### Inheritance"
   ]
  },
  {
   "cell_type": "markdown",
   "metadata": {},
   "source": [
    "Inheritance is a concept which allows child classes to inherit properties of parent classes"
   ]
  },
  {
   "cell_type": "code",
   "execution_count": 2,
   "metadata": {},
   "outputs": [],
   "source": [
    "class parent:\n",
    "    def test_parent(self):\n",
    "        print(\"this is my parent class\")"
   ]
  },
  {
   "cell_type": "code",
   "execution_count": 3,
   "metadata": {},
   "outputs": [],
   "source": [
    "class child(parent): #notice how parent class has beeen used inside the child class\n",
    "    pass"
   ]
  },
  {
   "cell_type": "code",
   "execution_count": 4,
   "metadata": {},
   "outputs": [],
   "source": [
    "w = child() # w is defined via the child class"
   ]
  },
  {
   "cell_type": "code",
   "execution_count": 6,
   "metadata": {},
   "outputs": [
    {
     "name": "stdout",
     "output_type": "stream",
     "text": [
      "this is my parent class\n"
     ]
    }
   ],
   "source": [
    "w.test_parent() # but we are able to call a function inside the parent class within the child class"
   ]
  },
  {
   "cell_type": "markdown",
   "metadata": {},
   "source": [
    "### Multi-level Inheritance"
   ]
  },
  {
   "attachments": {
    "image.png": {
     "image/png": "[encoded data removed]"
    }
   },
   "cell_type": "markdown",
   "metadata": {},
   "source": [
    "![image.png](attachment:image.png)"
   ]
  },
  {
   "cell_type": "markdown",
   "metadata": {},
   "source": [
    "Multi-level Inheritance a characteristic which allows multiple classes to reference each other and extend their functions or methods to each other. Please see below example"
   ]
  },
  {
   "cell_type": "code",
   "execution_count": 22,
   "metadata": {},
   "outputs": [],
   "source": [
    "class class1:\n",
    "    def test1(self):\n",
    "        print(\"this is class1\")"
   ]
  },
  {
   "cell_type": "code",
   "execution_count": 46,
   "metadata": {},
   "outputs": [],
   "source": [
    "class class2(class1): # i am calling class1 in class2\n",
    "    def test2(self):\n",
    "        print(\"this is class 2\")"
   ]
  },
  {
   "cell_type": "code",
   "execution_count": 47,
   "metadata": {},
   "outputs": [],
   "source": [
    "class class3(class2): #and calling class 2 which references class1 so it is extended here as well\n",
    "    def test3(self):\n",
    "        print(\"this is class3\")"
   ]
  },
  {
   "cell_type": "code",
   "execution_count": 25,
   "metadata": {},
   "outputs": [],
   "source": [
    "# notice how we are referencing a method from class1 and class 2 within class3\n",
    "a = class3()"
   ]
  },
  {
   "cell_type": "code",
   "execution_count": 26,
   "metadata": {},
   "outputs": [
    {
     "name": "stdout",
     "output_type": "stream",
     "text": [
      "this is class1\n"
     ]
    }
   ],
   "source": [
    "a.test1()"
   ]
  },
  {
   "cell_type": "code",
   "execution_count": 27,
   "metadata": {},
   "outputs": [
    {
     "name": "stdout",
     "output_type": "stream",
     "text": [
      "this is class 2\n"
     ]
    }
   ],
   "source": [
    "a.test2()"
   ]
  },
  {
   "cell_type": "code",
   "execution_count": 28,
   "metadata": {},
   "outputs": [],
   "source": [
    "w = class2()"
   ]
  },
  {
   "cell_type": "code",
   "execution_count": 29,
   "metadata": {},
   "outputs": [
    {
     "name": "stdout",
     "output_type": "stream",
     "text": [
      "this is class1\n"
     ]
    }
   ],
   "source": [
    "w.test1()"
   ]
  },
  {
   "cell_type": "code",
   "execution_count": 30,
   "metadata": {},
   "outputs": [
    {
     "name": "stdout",
     "output_type": "stream",
     "text": [
      "this is class 2\n"
     ]
    }
   ],
   "source": [
    "w.test2()"
   ]
  },
  {
   "cell_type": "markdown",
   "metadata": {},
   "source": [
    "### Multiple Inheritance"
   ]
  },
  {
   "cell_type": "markdown",
   "metadata": {},
   "source": [
    "This entails a new class being able to inherit methods from many distinct classes"
   ]
  },
  {
   "attachments": {
    "image.png": {
     "image/png": "[encoded data removed]"
    }
   },
   "cell_type": "markdown",
   "metadata": {},
   "source": [
    "![image.png](attachment:image.png)"
   ]
  },
  {
   "cell_type": "code",
   "execution_count": 40,
   "metadata": {},
   "outputs": [],
   "source": [
    "class class4:\n",
    "    def test1(self):\n",
    "        print(\"this is class 4\")"
   ]
  },
  {
   "cell_type": "code",
   "execution_count": 41,
   "metadata": {},
   "outputs": [],
   "source": [
    "class class5():\n",
    "    def test2(self):\n",
    "        print(\"this is class 5\")"
   ]
  },
  {
   "cell_type": "code",
   "execution_count": 42,
   "metadata": {},
   "outputs": [],
   "source": [
    "class class6(class4, class5): #notice we haven't defined any methods within class6\n",
    "    pass"
   ]
  },
  {
   "cell_type": "code",
   "execution_count": 43,
   "metadata": {},
   "outputs": [],
   "source": [
    "a = class6()"
   ]
  },
  {
   "cell_type": "code",
   "execution_count": 44,
   "metadata": {},
   "outputs": [
    {
     "name": "stdout",
     "output_type": "stream",
     "text": [
      "this is class 4\n"
     ]
    }
   ],
   "source": [
    "a.test1() #but we are able to use methods from class4 and class5"
   ]
  },
  {
   "cell_type": "code",
   "execution_count": 45,
   "metadata": {},
   "outputs": [
    {
     "name": "stdout",
     "output_type": "stream",
     "text": [
      "this is class 5\n"
     ]
    }
   ],
   "source": [
    "a.test2()"
   ]
  },
  {
   "cell_type": "markdown",
   "metadata": {},
   "source": [
    "### Abstraction"
   ]
  },
  {
   "cell_type": "markdown",
   "metadata": {},
   "source": [
    "This is a concept which allows you to create a blueprint/skeleton for how to define or create a class for others to follow assuming you have a specific way you want something to be done. So someone can \n",
    "know which methods can be used. Though you will be able to deine them as you wish"
   ]
  },
  {
   "cell_type": "code",
   "execution_count": 57,
   "metadata": {},
   "outputs": [],
   "source": [
    "# to do this you need to import a library known as 'abc'\n",
    "import abc"
   ]
  },
  {
   "cell_type": "code",
   "execution_count": 59,
   "metadata": {},
   "outputs": [],
   "source": [
    "#notice how we are decorating each method with abstract method\n",
    "class format1:\n",
    "    @abc.abstractmethod\n",
    "    def details(self):\n",
    "        pass\n",
    "    \n",
    "    @abc.abstractmethod\n",
    "    def subjects(self):\n",
    "        pass\n",
    "    \n",
    "    @abc.abstractmethod\n",
    "    def marks(self):\n",
    "        pass"
   ]
  },
  {
   "cell_type": "code",
   "execution_count": 72,
   "metadata": {},
   "outputs": [],
   "source": [
    "class test(format1):\n",
    "    def __init__(self):\n",
    "        self.__w = []\n",
    "        self.__t = []\n",
    "    \n",
    "    \n",
    "    def details(self,a):\n",
    "        self.__w.append(a)\n",
    "        \n",
    "    def subjects(self, b):\n",
    "        self.__t.append(b)\n",
    "    \n",
    "    def get_details(self):\n",
    "        return self.__w\n",
    "    \n",
    "    def get_subjects(self):\n",
    "        return self.__t"
   ]
  },
  {
   "cell_type": "code",
   "execution_count": 73,
   "metadata": {},
   "outputs": [],
   "source": [
    "q = test()"
   ]
  },
  {
   "cell_type": "code",
   "execution_count": 74,
   "metadata": {},
   "outputs": [
    {
     "data": {
      "text/plain": [
       "[]"
      ]
     },
     "execution_count": 74,
     "metadata": {},
     "output_type": "execute_result"
    }
   ],
   "source": [
    "q.get_details()"
   ]
  },
  {
   "cell_type": "code",
   "execution_count": 75,
   "metadata": {},
   "outputs": [
    {
     "data": {
      "text/plain": [
       "[]"
      ]
     },
     "execution_count": 75,
     "metadata": {},
     "output_type": "execute_result"
    }
   ],
   "source": [
    "q.get_subjects()"
   ]
  },
  {
   "cell_type": "code",
   "execution_count": 78,
   "metadata": {},
   "outputs": [],
   "source": [
    "q.subjects('maths')"
   ]
  },
  {
   "cell_type": "code",
   "execution_count": 79,
   "metadata": {},
   "outputs": [],
   "source": [
    "q.details('Ope')"
   ]
  },
  {
   "cell_type": "code",
   "execution_count": 80,
   "metadata": {},
   "outputs": [
    {
     "data": {
      "text/plain": [
       "['Ope']"
      ]
     },
     "execution_count": 80,
     "metadata": {},
     "output_type": "execute_result"
    }
   ],
   "source": [
    "q.get_details()"
   ]
  },
  {
   "cell_type": "code",
   "execution_count": 81,
   "metadata": {},
   "outputs": [
    {
     "data": {
      "text/plain": [
       "['maths']"
      ]
     },
     "execution_count": 81,
     "metadata": {},
     "output_type": "execute_result"
    }
   ],
   "source": [
    "q.get_subjects()"
   ]
  },
  {
   "cell_type": "code",
   "execution_count": 83,
   "metadata": {},
   "outputs": [],
   "source": [
    "q.details('Ope')"
   ]
  },
  {
   "cell_type": "code",
   "execution_count": 85,
   "metadata": {},
   "outputs": [
    {
     "data": {
      "text/plain": [
       "['Ope', 'Ope']"
      ]
     },
     "execution_count": 85,
     "metadata": {},
     "output_type": "execute_result"
    }
   ],
   "source": [
    "q.get_details()"
   ]
  },
  {
   "cell_type": "markdown",
   "metadata": {},
   "source": [
    "### Decorators"
   ]
  },
  {
   "cell_type": "markdown",
   "metadata": {},
   "source": [
    "Decorators can help reduce repetiveness in code in the sense that you are able to define an external function which holds\n",
    "some logic/code you want to show everytime you execute certain lines of code. All you would need to do is call the decorator.\n",
    "Useful cases for decorators could be logging"
   ]
  },
  {
   "cell_type": "code",
   "execution_count": 87,
   "metadata": {},
   "outputs": [],
   "source": [
    "# assuming you want to print certain statements everytime you execute a function or procedure\n",
    "def test():\n",
    "    print(\"start of execution\")\n",
    "    print(4+5)\n",
    "    print(\"end of execution\")"
   ]
  },
  {
   "cell_type": "code",
   "execution_count": 88,
   "metadata": {},
   "outputs": [
    {
     "name": "stdout",
     "output_type": "stream",
     "text": [
      "start of execution\n",
      "9\n",
      "end of execution\n"
     ]
    }
   ],
   "source": [
    "test()"
   ]
  },
  {
   "cell_type": "markdown",
   "metadata": {},
   "source": [
    "You can easily put print statements in every function you want to do the above for but this can become annoying\n",
    "and make the code less readable.\n",
    "A better alternative would be to use a decorator "
   ]
  },
  {
   "cell_type": "code",
   "execution_count": 89,
   "metadata": {},
   "outputs": [],
   "source": [
    "# using a decorator via a decorator function\n",
    "def deco(func):\n",
    "    def inner_deco():\n",
    "        print(\"start of execution\")\n",
    "        func()\n",
    "        print(\"end of execution\")\n",
    "        \n",
    "    return inner_deco # returns inner_deco to deco function\n",
    "        \n",
    "#This can be used anywhere you want it to appear in  your code"
   ]
  },
  {
   "cell_type": "code",
   "execution_count": 97,
   "metadata": {},
   "outputs": [],
   "source": [
    "# assuming you want to print certain statements everytime you execute a function or procedure\n",
    "@deco\n",
    "def test1():\n",
    "    print(4+5)\n",
    "# basically what happens is that because of @deco, what is executed is actually the inner_deco function where func() = test1()"
   ]
  },
  {
   "cell_type": "code",
   "execution_count": 98,
   "metadata": {},
   "outputs": [
    {
     "name": "stdout",
     "output_type": "stream",
     "text": [
      "start of execution\n",
      "9\n",
      "end of execution\n"
     ]
    }
   ],
   "source": [
    "test1()"
   ]
  },
  {
   "cell_type": "code",
   "execution_count": 132,
   "metadata": {},
   "outputs": [],
   "source": [
    "# using a decorator function to show execution time\n",
    "import time # library for dealing with time\n",
    "def deco2(func):\n",
    "    def timing(): \n",
    "        t1 = time.time()\n",
    "        print(\"start of execution \",time.strftime('%X %x %Z'))\n",
    "        func()\n",
    "        t2 =  time.time()\n",
    "        l= t2-t1\n",
    "        print(\"end of execution \", time.strftime('%X %x %Z'))\n",
    "        print('time taken ',l)\n",
    "        \n",
    "    return timing # returns inner_deco to deco function"
   ]
  },
  {
   "cell_type": "code",
   "execution_count": 133,
   "metadata": {},
   "outputs": [],
   "source": [
    "@deco2\n",
    "def test1():\n",
    "    print(4+8)"
   ]
  },
  {
   "cell_type": "code",
   "execution_count": 134,
   "metadata": {},
   "outputs": [
    {
     "name": "stdout",
     "output_type": "stream",
     "text": [
      "start of execution  07:57:09 03/02/24 GMT Standard Time\n",
      "12\n",
      "end of execution  07:57:09 03/02/24 GMT Standard Time\n",
      "time taken  0.0\n"
     ]
    }
   ],
   "source": [
    "test1()"
   ]
  },
  {
   "cell_type": "code",
   "execution_count": 140,
   "metadata": {},
   "outputs": [],
   "source": [
    "@deco2\n",
    "def test1():\n",
    "    for i in range(10000000):\n",
    "        pass"
   ]
  },
  {
   "cell_type": "code",
   "execution_count": 141,
   "metadata": {},
   "outputs": [
    {
     "name": "stdout",
     "output_type": "stream",
     "text": [
      "start of execution  08:15:21 03/02/24 GMT Standard Time\n",
      "end of execution  08:15:21 03/02/24 GMT Standard Time\n",
      "time taken  0.19869494438171387\n"
     ]
    }
   ],
   "source": [
    "test1()"
   ]
  },
  {
   "cell_type": "markdown",
   "metadata": {},
   "source": [
    "### Class Methods"
   ]
  },
  {
   "cell_type": "code",
   "execution_count": 142,
   "metadata": {},
   "outputs": [],
   "source": [
    "# By now We are aware of defining class variables using the __init__ method\n",
    "class test5:\n",
    "    def __init__(self,email_address, student_id): #init is constructor this is where you define the variables for the class\n",
    "    # defining the class parameters or arguments\n",
    "        self.email = email_address\n",
    "        self.id = student_id\n",
    "        \n",
    "    def details(self): #function of the class\n",
    "        return self.email, self.id"
   ]
  },
  {
   "cell_type": "code",
   "execution_count": 143,
   "metadata": {},
   "outputs": [],
   "source": [
    "e = test5('costa@mail.com', 'costa')"
   ]
  },
  {
   "cell_type": "code",
   "execution_count": 144,
   "metadata": {},
   "outputs": [
    {
     "data": {
      "text/plain": [
       "('costa@mail.com', 'costa')"
      ]
     },
     "execution_count": 144,
     "metadata": {},
     "output_type": "execute_result"
    }
   ],
   "source": [
    "e.details()"
   ]
  },
  {
   "cell_type": "code",
   "execution_count": 156,
   "metadata": {},
   "outputs": [],
   "source": [
    "# We can also define the class variables using class methods\n",
    "class test6:\n",
    "    def __init__(self,email_address, student_id): #init is constructor this is where you define the variables for the class\n",
    "    # defining the class parameters or arguments\n",
    "        self.email = email_address\n",
    "        self.id = student_id\n",
    "    \n",
    "    # this decorator will make the function below usable as way of definig the class objects\n",
    "    @classmethod\n",
    "    def enter_details(a,email_address1, student_id1): #notice how a different pointer is used here\n",
    "        return a(email_address1, student_id1) # that pointer binds to the class directly and can be used for class methods\n",
    "    \n",
    "    def details(self): #function of the class\n",
    "        return self.email, self.id"
   ]
  },
  {
   "cell_type": "code",
   "execution_count": 157,
   "metadata": {},
   "outputs": [],
   "source": [
    "w = test6.enter_details('ope@mail.co', 'ope') #this is just an alternative to using __init__"
   ]
  },
  {
   "cell_type": "code",
   "execution_count": 158,
   "metadata": {},
   "outputs": [
    {
     "data": {
      "text/plain": [
       "('ope@mail.co', 'ope')"
      ]
     },
     "execution_count": 158,
     "metadata": {},
     "output_type": "execute_result"
    }
   ],
   "source": [
    "w.details()"
   ]
  },
  {
   "cell_type": "code",
   "execution_count": 159,
   "metadata": {},
   "outputs": [
    {
     "data": {
      "text/plain": [
       "'ope@mail.co'"
      ]
     },
     "execution_count": 159,
     "metadata": {},
     "output_type": "execute_result"
    }
   ],
   "source": [
    "w.email"
   ]
  },
  {
   "cell_type": "code",
   "execution_count": 160,
   "metadata": {},
   "outputs": [
    {
     "data": {
      "text/plain": [
       "'ope'"
      ]
     },
     "execution_count": 160,
     "metadata": {},
     "output_type": "execute_result"
    }
   ],
   "source": [
    "w.id"
   ]
  },
  {
   "cell_type": "code",
   "execution_count": 161,
   "metadata": {},
   "outputs": [],
   "source": [
    "# Pointing at objects defined outside class methods\n",
    "class test7:\n",
    "    school = 'Loughboough University'\n",
    "    \n",
    "    def __init__(self,email_address, student_id): #init is constructor this is where you define the variables for the class\n",
    "    # defining the class parameters or arguments\n",
    "        self.email = email_address\n",
    "        self.id = student_id\n",
    "    \n",
    "    # this decorator will make the function below usable as way of definig the class objects\n",
    "    @classmethod\n",
    "    def enter_details(a,email_address1, student_id1): #notice how a different pointer is used here\n",
    "        return a(email_address1, student_id1)\n",
    "    \n",
    "    def details(self): #function/instance of the class\n",
    "        return self.email, self.id, test7.school"
   ]
  },
  {
   "cell_type": "code",
   "execution_count": 186,
   "metadata": {},
   "outputs": [
    {
     "data": {
      "text/plain": [
       "'Loughboough University'"
      ]
     },
     "execution_count": 186,
     "metadata": {},
     "output_type": "execute_result"
    }
   ],
   "source": [
    "test7.school"
   ]
  },
  {
   "cell_type": "code",
   "execution_count": 187,
   "metadata": {},
   "outputs": [
    {
     "data": {
      "text/plain": [
       "('nuri@lboro.ac', 'nuri', 'Loughboough University')"
      ]
     },
     "execution_count": 187,
     "metadata": {},
     "output_type": "execute_result"
    }
   ],
   "source": [
    "t = test7.enter_details('nuri@lboro.ac','nuri')\n",
    "t.details()"
   ]
  },
  {
   "cell_type": "code",
   "execution_count": 188,
   "metadata": {},
   "outputs": [
    {
     "data": {
      "text/plain": [
       "'nuri'"
      ]
     },
     "execution_count": 188,
     "metadata": {},
     "output_type": "execute_result"
    }
   ],
   "source": [
    "t.id"
   ]
  },
  {
   "cell_type": "code",
   "execution_count": null,
   "metadata": {},
   "outputs": [],
   "source": []
  },
  {
   "cell_type": "code",
   "execution_count": 164,
   "metadata": {},
   "outputs": [
    {
     "data": {
      "text/plain": [
       "('nuri@lboro.ac', 'nuri', 'Loughboough University')"
      ]
     },
     "execution_count": 164,
     "metadata": {},
     "output_type": "execute_result"
    }
   ],
   "source": [
    "t = test7('nuri@lboro.ac','nuri')\n",
    "t.details()"
   ]
  },
  {
   "cell_type": "code",
   "execution_count": 171,
   "metadata": {},
   "outputs": [],
   "source": [
    "# Pointing at objects defined outside class methods\n",
    "class test8:\n",
    "    school = 'Loughboough University'\n",
    "    \n",
    "    def __init__(self,email_address, student_id): #init is constructor this is where you define the variables for the class\n",
    "    # defining the class parameters or arguments\n",
    "        self.email = email_address\n",
    "        self.id = student_id\n",
    "    \n",
    "    # this decorator will make the function below usable as way of definig the class objects\n",
    "    @classmethod\n",
    "    def enter_details(a,email_address1, student_id1): #notice how a different pointer is used here\n",
    "        return a(email_address1, student_id1)\n",
    "    \n",
    "    @classmethod # method for updating class variable 'school'\n",
    "    def update_school(a,x): #notice how sam pointer is used for only class methods\n",
    "        test8.school = x\n",
    "    \n",
    "    def details(self): #function/instance of the class\n",
    "        return self.email, self.id, test8.school"
   ]
  },
  {
   "cell_type": "code",
   "execution_count": 172,
   "metadata": {},
   "outputs": [
    {
     "data": {
      "text/plain": [
       "'Loughboough University'"
      ]
     },
     "execution_count": 172,
     "metadata": {},
     "output_type": "execute_result"
    }
   ],
   "source": [
    "test8.school"
   ]
  },
  {
   "cell_type": "code",
   "execution_count": 173,
   "metadata": {},
   "outputs": [],
   "source": [
    "test8.update_school('Lufbra-London') # now any objects created following this will have the new school"
   ]
  },
  {
   "cell_type": "code",
   "execution_count": 174,
   "metadata": {},
   "outputs": [
    {
     "data": {
      "text/plain": [
       "'Lufbra-London'"
      ]
     },
     "execution_count": 174,
     "metadata": {},
     "output_type": "execute_result"
    }
   ],
   "source": [
    "test8.school"
   ]
  },
  {
   "cell_type": "code",
   "execution_count": 175,
   "metadata": {},
   "outputs": [
    {
     "data": {
      "text/plain": [
       "('nuri@lboro.ac', 'nuri', 'Lufbra-London')"
      ]
     },
     "execution_count": 175,
     "metadata": {},
     "output_type": "execute_result"
    }
   ],
   "source": [
    "t = test8('nuri@lboro.ac','nuri')\n",
    "t.details()"
   ]
  },
  {
   "cell_type": "code",
   "execution_count": 176,
   "metadata": {},
   "outputs": [
    {
     "data": {
      "text/plain": [
       "'Lufbra-London'"
      ]
     },
     "execution_count": 176,
     "metadata": {},
     "output_type": "execute_result"
    }
   ],
   "source": [
    "t.school"
   ]
  },
  {
   "cell_type": "code",
   "execution_count": 185,
   "metadata": {},
   "outputs": [
    {
     "data": {
      "text/plain": [
       "('ooo@lboro.com', 'ooo', 'Lufbra-London')"
      ]
     },
     "execution_count": 185,
     "metadata": {},
     "output_type": "execute_result"
    }
   ],
   "source": [
    "test8.enter_details('ooo@lboro.com','ooo').details() #just an object and holds the definition in memory, it doesn't overwrite anything"
   ]
  },
  {
   "cell_type": "code",
   "execution_count": null,
   "metadata": {},
   "outputs": [],
   "source": []
  },
  {
   "cell_type": "code",
   "execution_count": 181,
   "metadata": {},
   "outputs": [
    {
     "data": {
      "text/plain": [
       "('nuri@lboro.ac', 'nuri', 'Lufbra-London')"
      ]
     },
     "execution_count": 181,
     "metadata": {},
     "output_type": "execute_result"
    }
   ],
   "source": [
    "t.details() #maintain variables used at object creation"
   ]
  },
  {
   "cell_type": "code",
   "execution_count": 205,
   "metadata": {},
   "outputs": [],
   "source": [
    "def update_id(a,x):\n",
    "    print(x)\n",
    "    "
   ]
  },
  {
   "cell_type": "code",
   "execution_count": 206,
   "metadata": {},
   "outputs": [],
   "source": [
    "test8.update_id = classmethod(update_id)"
   ]
  },
  {
   "cell_type": "code",
   "execution_count": 207,
   "metadata": {},
   "outputs": [
    {
     "data": {
      "text/plain": [
       "('nuri@lboro.ac', 'nuri', 'Lufbra-London')"
      ]
     },
     "execution_count": 207,
     "metadata": {},
     "output_type": "execute_result"
    }
   ],
   "source": [
    "t = test8('nuri@lboro.ac','nuri')\n",
    "t.details()"
   ]
  },
  {
   "cell_type": "code",
   "execution_count": 208,
   "metadata": {},
   "outputs": [
    {
     "name": "stdout",
     "output_type": "stream",
     "text": [
      "obembe\n"
     ]
    }
   ],
   "source": [
    "t.update_id('obembe')"
   ]
  },
  {
   "cell_type": "code",
   "execution_count": 209,
   "metadata": {},
   "outputs": [
    {
     "data": {
      "text/plain": [
       "('nuri@lboro.ac', 'nuri', 'Lufbra-London')"
      ]
     },
     "execution_count": 209,
     "metadata": {},
     "output_type": "execute_result"
    }
   ],
   "source": [
    "t.details()"
   ]
  },
  {
   "cell_type": "code",
   "execution_count": 195,
   "metadata": {},
   "outputs": [
    {
     "data": {
      "text/plain": [
       "'nuri'"
      ]
     },
     "execution_count": 195,
     "metadata": {},
     "output_type": "execute_result"
    }
   ],
   "source": [
    "t.id"
   ]
  },
  {
   "cell_type": "code",
   "execution_count": 199,
   "metadata": {},
   "outputs": [
    {
     "data": {
      "text/plain": [
       "<__main__.test8 at 0x160bad7b460>"
      ]
     },
     "execution_count": 199,
     "metadata": {},
     "output_type": "execute_result"
    }
   ],
   "source": [
    "t"
   ]
  },
  {
   "cell_type": "code",
   "execution_count": 210,
   "metadata": {},
   "outputs": [],
   "source": [
    "# Pointing at objects defined outside class methods\n",
    "class test8:\n",
    "    school = 'Loughboough University'\n",
    "    \n",
    "    def __init__(self,email_address, student_id): #init is constructor this is where you define the variables for the class\n",
    "    # defining the class parameters or arguments\n",
    "        self.email = email_address\n",
    "        self.id = student_id\n",
    "    \n",
    "    # this decorator will make the function below usable as way of definig the class objects\n",
    "    @classmethod\n",
    "    def enter_details(a,email_address1, student_id1): #notice how a different pointer is used here\n",
    "        return a(email_address1, student_id1)\n",
    "    \n",
    "    @classmethod # method for updating class variable 'school'\n",
    "    def update_school(a,x): #notice how sam pointer is used for only class methods\n",
    "        test8.school = x\n",
    "        \n",
    "    def update_id(self,x): #notice how sam pointer is used for only class methods\n",
    "        self.id = x\n",
    "    \n",
    "    def details(self): #function/instance of the class\n",
    "        return self.email, self.id, test8.school"
   ]
  },
  {
   "cell_type": "code",
   "execution_count": 212,
   "metadata": {},
   "outputs": [],
   "source": [
    "v = test8.enter_details('OPE@lboro.ac','OPE')"
   ]
  },
  {
   "cell_type": "code",
   "execution_count": 213,
   "metadata": {},
   "outputs": [
    {
     "data": {
      "text/plain": [
       "('OPE@lboro.ac', 'OPE', 'Loughboough University')"
      ]
     },
     "execution_count": 213,
     "metadata": {},
     "output_type": "execute_result"
    }
   ],
   "source": [
    "v.details()"
   ]
  },
  {
   "cell_type": "code",
   "execution_count": 214,
   "metadata": {},
   "outputs": [
    {
     "data": {
      "text/plain": [
       "'OPE'"
      ]
     },
     "execution_count": 214,
     "metadata": {},
     "output_type": "execute_result"
    }
   ],
   "source": [
    "v.id"
   ]
  },
  {
   "cell_type": "code",
   "execution_count": 215,
   "metadata": {},
   "outputs": [
    {
     "data": {
      "text/plain": [
       "'OPE@lboro.ac'"
      ]
     },
     "execution_count": 215,
     "metadata": {},
     "output_type": "execute_result"
    }
   ],
   "source": [
    "v.email"
   ]
  },
  {
   "cell_type": "code",
   "execution_count": 216,
   "metadata": {},
   "outputs": [],
   "source": [
    "v.update_id('OBEMBE')"
   ]
  },
  {
   "cell_type": "code",
   "execution_count": 217,
   "metadata": {},
   "outputs": [
    {
     "data": {
      "text/plain": [
       "('OPE@lboro.ac', 'OBEMBE', 'Loughboough University')"
      ]
     },
     "execution_count": 217,
     "metadata": {},
     "output_type": "execute_result"
    }
   ],
   "source": [
    "v.details()"
   ]
  },
  {
   "cell_type": "code",
   "execution_count": 218,
   "metadata": {},
   "outputs": [
    {
     "data": {
      "text/plain": [
       "'OBEMBE'"
      ]
     },
     "execution_count": 218,
     "metadata": {},
     "output_type": "execute_result"
    }
   ],
   "source": [
    "v.id"
   ]
  },
  {
   "cell_type": "code",
   "execution_count": 219,
   "metadata": {},
   "outputs": [
    {
     "data": {
      "text/plain": [
       "'OPE@lboro.ac'"
      ]
     },
     "execution_count": 219,
     "metadata": {},
     "output_type": "execute_result"
    }
   ],
   "source": [
    "v.email"
   ]
  },
  {
   "cell_type": "code",
   "execution_count": 230,
   "metadata": {},
   "outputs": [],
   "source": [
    "# Pointing at objects defined outside class methods\n",
    "class test9:\n",
    "    school = 'Loughboough University'\n",
    "    \n",
    "    def __init__(self,email_address, student_id): #init is constructor this is where you define the variables for the class\n",
    "    # defining the class parameters or arguments\n",
    "        self.email = email_address\n",
    "        self.id = student_id\n",
    "    \n",
    "    # this decorator will make the function below usable as way of definig the class objects\n",
    "    @classmethod\n",
    "    def enter_details(a,email_address1, student_id1): #notice how a different pointer is used here\n",
    "        return a(email_address1, student_id1)\n",
    "    \n",
    "    @classmethod # method for updating class variable 'school'\n",
    "    def update_school(a,x): #notice how sam pointer is used for only class methods\n",
    "        test9.school = x\n",
    "        \n",
    "    def update_id(self,x): #notice how same pointer is used for only class methods\n",
    "        self.id = x\n",
    "    \n",
    "    def details(self): #function/instance of the class\n",
    "        return self.email, self.id, test9.school"
   ]
  },
  {
   "cell_type": "code",
   "execution_count": 231,
   "metadata": {},
   "outputs": [],
   "source": [
    "del test9.update_id #deletes update_id method from class test9"
   ]
  },
  {
   "cell_type": "code",
   "execution_count": 232,
   "metadata": {},
   "outputs": [],
   "source": [
    " del test9.school"
   ]
  },
  {
   "cell_type": "code",
   "execution_count": 233,
   "metadata": {},
   "outputs": [],
   "source": [
    "w = test9('ope@mail.com','ope1') "
   ]
  },
  {
   "cell_type": "code",
   "execution_count": 234,
   "metadata": {},
   "outputs": [
    {
     "ename": "AttributeError",
     "evalue": "type object 'test9' has no attribute 'school'",
     "output_type": "error",
     "traceback": [
      "\u001b[1;31m---------------------------------------------------------------------------\u001b[0m",
      "\u001b[1;31mAttributeError\u001b[0m                            Traceback (most recent call last)",
      "\u001b[1;32m<ipython-input-234-022aed78ef9e>\u001b[0m in \u001b[0;36m<module>\u001b[1;34m\u001b[0m\n\u001b[1;32m----> 1\u001b[1;33m \u001b[0mw\u001b[0m\u001b[1;33m.\u001b[0m\u001b[0mdetails\u001b[0m\u001b[1;33m(\u001b[0m\u001b[1;33m)\u001b[0m\u001b[1;33m\u001b[0m\u001b[1;33m\u001b[0m\u001b[0m\n\u001b[0m",
      "\u001b[1;32m<ipython-input-230-69cc6a97bc63>\u001b[0m in \u001b[0;36mdetails\u001b[1;34m(self)\u001b[0m\n\u001b[0;32m     21\u001b[0m \u001b[1;33m\u001b[0m\u001b[0m\n\u001b[0;32m     22\u001b[0m     \u001b[1;32mdef\u001b[0m \u001b[0mdetails\u001b[0m\u001b[1;33m(\u001b[0m\u001b[0mself\u001b[0m\u001b[1;33m)\u001b[0m\u001b[1;33m:\u001b[0m \u001b[1;31m#function/instance of the class\u001b[0m\u001b[1;33m\u001b[0m\u001b[1;33m\u001b[0m\u001b[0m\n\u001b[1;32m---> 23\u001b[1;33m         \u001b[1;32mreturn\u001b[0m \u001b[0mself\u001b[0m\u001b[1;33m.\u001b[0m\u001b[0memail\u001b[0m\u001b[1;33m,\u001b[0m \u001b[0mself\u001b[0m\u001b[1;33m.\u001b[0m\u001b[0mid\u001b[0m\u001b[1;33m,\u001b[0m \u001b[0mtest9\u001b[0m\u001b[1;33m.\u001b[0m\u001b[0mschool\u001b[0m\u001b[1;33m\u001b[0m\u001b[1;33m\u001b[0m\u001b[0m\n\u001b[0m",
      "\u001b[1;31mAttributeError\u001b[0m: type object 'test9' has no attribute 'school'"
     ]
    }
   ],
   "source": [
    "w.details() #error because we have deleted the variable"
   ]
  },
  {
   "cell_type": "code",
   "execution_count": null,
   "metadata": {},
   "outputs": [],
   "source": []
  },
  {
   "cell_type": "markdown",
   "metadata": {},
   "source": [
    "### Static Methods\n",
    "static methods are particularly useful when memory usage comes into thought. This is mainly because instance methods create new \n",
    "instances of these functions/methods everytime a new object is defined (e.g. 1000 objects will create 1000 instances of the functions) however the static methods are available to the class and can even be accessed without creating an object"
   ]
  },
  {
   "cell_type": "code",
   "execution_count": 1,
   "metadata": {},
   "outputs": [],
   "source": [
    "class tst1:\n",
    "    def student_details(self, name, email, tel): #instance method\n",
    "        print(name, email, tel)\n",
    "        \n",
    "    @staticmethod\n",
    "    def mentors(mentor_list): #static method no need for pointers\n",
    "        print(mentor_list)\n",
    "    \n",
    "    #instance method\n",
    "    def mentor(self, list_mentor):\n",
    "        print(list_mentor)\n",
    "        "
   ]
  },
  {
   "cell_type": "code",
   "execution_count": 19,
   "metadata": {},
   "outputs": [
    {
     "name": "stdout",
     "output_type": "stream",
     "text": [
      "['ope', 'costa']\n"
     ]
    }
   ],
   "source": [
    "tst1.mentor(o,['ope','costa']) #you need to define an object to use the instance method"
   ]
  },
  {
   "cell_type": "code",
   "execution_count": 6,
   "metadata": {},
   "outputs": [
    {
     "name": "stdout",
     "output_type": "stream",
     "text": [
      "['ope', 'costa']\n"
     ]
    }
   ],
   "source": [
    "tst1.mentors(['ope','costa']) #static method can be accessed via class and can also be used by objects created"
   ]
  },
  {
   "cell_type": "code",
   "execution_count": 7,
   "metadata": {},
   "outputs": [],
   "source": [
    "o = tst1()"
   ]
  },
  {
   "cell_type": "code",
   "execution_count": 8,
   "metadata": {},
   "outputs": [
    {
     "name": "stdout",
     "output_type": "stream",
     "text": [
      "['ope', 'costa']\n"
     ]
    }
   ],
   "source": [
    "o.mentor(['ope','costa'])"
   ]
  },
  {
   "cell_type": "code",
   "execution_count": 9,
   "metadata": {},
   "outputs": [
    {
     "name": "stdout",
     "output_type": "stream",
     "text": [
      "['ope', 'costa']\n"
     ]
    }
   ],
   "source": [
    "o.mentors(['ope','costa'])"
   ]
  },
  {
   "cell_type": "code",
   "execution_count": 22,
   "metadata": {},
   "outputs": [],
   "source": [
    "class tst2:\n",
    "    def student_details(self, name, email, tel): #instance method\n",
    "        print(name, email, tel)\n",
    "        \n",
    "    @staticmethod\n",
    "    def mentors_mail(mail_list): #static method\n",
    "        print(mail_list)\n",
    "    \n",
    "    @staticmethod\n",
    "    def mentors(mentor_list): #static method\n",
    "        print(mentor_list)\n",
    "        tst2.mentors_mail(['o@omail.com','g@gmail.com']) #accessing another static method using class name \n",
    "        \n",
    "        \n",
    "    @classmethod\n",
    "    def class_name(a, class_name):\n",
    "        a.mentors(class_name) # you can also access static methods inside class methods\n",
    "    \n",
    "    # you can access static methods within instance methods but you need to define them first before you can call them\n",
    "    def mentor(self, list_mentor):\n",
    "        print(list_mentor)\n",
    "        self.mentors(list_mentor)\n",
    "        "
   ]
  },
  {
   "cell_type": "code",
   "execution_count": 23,
   "metadata": {},
   "outputs": [
    {
     "name": "stdout",
     "output_type": "stream",
     "text": [
      "ope\n",
      "['o@omail.com', 'g@gmail.com']\n"
     ]
    }
   ],
   "source": [
    "tst2.class_name('ope')"
   ]
  },
  {
   "cell_type": "code",
   "execution_count": 24,
   "metadata": {},
   "outputs": [
    {
     "name": "stdout",
     "output_type": "stream",
     "text": [
      "ope@opmail.com\n"
     ]
    }
   ],
   "source": [
    "tst2.mentors_mail('ope@opmail.com')"
   ]
  },
  {
   "cell_type": "code",
   "execution_count": 25,
   "metadata": {},
   "outputs": [
    {
     "name": "stdout",
     "output_type": "stream",
     "text": [
      "Krish\n",
      "['o@omail.com', 'g@gmail.com']\n"
     ]
    }
   ],
   "source": [
    "tst2.mentors('Krish')"
   ]
  },
  {
   "cell_type": "code",
   "execution_count": 28,
   "metadata": {},
   "outputs": [
    {
     "name": "stdout",
     "output_type": "stream",
     "text": [
      "Ope\n",
      "Ope\n"
     ]
    }
   ],
   "source": [
    "tst2.mentor(o,'Ope') #you cannot access 2nd static method directly"
   ]
  },
  {
   "cell_type": "code",
   "execution_count": 29,
   "metadata": {},
   "outputs": [],
   "source": [
    "a = tst2()"
   ]
  },
  {
   "cell_type": "code",
   "execution_count": 31,
   "metadata": {},
   "outputs": [
    {
     "name": "stdout",
     "output_type": "stream",
     "text": [
      "Kumar\n",
      "Kumar\n",
      "['o@omail.com', 'g@gmail.com']\n"
     ]
    }
   ],
   "source": [
    "a.mentor('Kumar') #you can access 2nd static method directly"
   ]
  },
  {
   "cell_type": "code",
   "execution_count": 32,
   "metadata": {},
   "outputs": [
    {
     "name": "stdout",
     "output_type": "stream",
     "text": [
      "science\n",
      "['o@omail.com', 'g@gmail.com']\n"
     ]
    }
   ],
   "source": [
    "a.class_name('science')"
   ]
  },
  {
   "cell_type": "markdown",
   "metadata": {},
   "source": [
    "#### class methods: helps you overload init method and create/access/update class variables\n",
    "\n",
    "#### static methods: these are mainly to reduce memory usage and prevent creation of multiple instances of a function whenevr we crate objects\n"
   ]
  },
  {
   "cell_type": "markdown",
   "metadata": {},
   "source": [
    "### Special (Magic/Dunder) Methods"
   ]
  },
  {
   "cell_type": "code",
   "execution_count": 33,
   "metadata": {},
   "outputs": [
    {
     "data": {
      "text/plain": [
       "['__abs__',\n",
       " '__add__',\n",
       " '__and__',\n",
       " '__bool__',\n",
       " '__ceil__',\n",
       " '__class__',\n",
       " '__delattr__',\n",
       " '__dir__',\n",
       " '__divmod__',\n",
       " '__doc__',\n",
       " '__eq__',\n",
       " '__float__',\n",
       " '__floor__',\n",
       " '__floordiv__',\n",
       " '__format__',\n",
       " '__ge__',\n",
       " '__getattribute__',\n",
       " '__getnewargs__',\n",
       " '__gt__',\n",
       " '__hash__',\n",
       " '__index__',\n",
       " '__init__',\n",
       " '__init_subclass__',\n",
       " '__int__',\n",
       " '__invert__',\n",
       " '__le__',\n",
       " '__lshift__',\n",
       " '__lt__',\n",
       " '__mod__',\n",
       " '__mul__',\n",
       " '__ne__',\n",
       " '__neg__',\n",
       " '__new__',\n",
       " '__or__',\n",
       " '__pos__',\n",
       " '__pow__',\n",
       " '__radd__',\n",
       " '__rand__',\n",
       " '__rdivmod__',\n",
       " '__reduce__',\n",
       " '__reduce_ex__',\n",
       " '__repr__',\n",
       " '__rfloordiv__',\n",
       " '__rlshift__',\n",
       " '__rmod__',\n",
       " '__rmul__',\n",
       " '__ror__',\n",
       " '__round__',\n",
       " '__rpow__',\n",
       " '__rrshift__',\n",
       " '__rshift__',\n",
       " '__rsub__',\n",
       " '__rtruediv__',\n",
       " '__rxor__',\n",
       " '__setattr__',\n",
       " '__sizeof__',\n",
       " '__str__',\n",
       " '__sub__',\n",
       " '__subclasshook__',\n",
       " '__truediv__',\n",
       " '__trunc__',\n",
       " '__xor__',\n",
       " 'as_integer_ratio',\n",
       " 'bit_length',\n",
       " 'conjugate',\n",
       " 'denominator',\n",
       " 'from_bytes',\n",
       " 'imag',\n",
       " 'numerator',\n",
       " 'real',\n",
       " 'to_bytes']"
      ]
     },
     "execution_count": 33,
     "metadata": {},
     "output_type": "execute_result"
    }
   ],
   "source": [
    "# you can see these methods using the 'dir' function\n",
    "#e.g. magic functions for integer class\n",
    "dir(int)"
   ]
  },
  {
   "cell_type": "code",
   "execution_count": 35,
   "metadata": {},
   "outputs": [
    {
     "data": {
      "text/plain": [
       "16"
      ]
     },
     "execution_count": 35,
     "metadata": {},
     "output_type": "execute_result"
    }
   ],
   "source": [
    "a = 10\n",
    "a+6"
   ]
  },
  {
   "cell_type": "code",
   "execution_count": 38,
   "metadata": {},
   "outputs": [
    {
     "data": {
      "text/plain": [
       "16"
      ]
     },
     "execution_count": 38,
     "metadata": {},
     "output_type": "execute_result"
    }
   ],
   "source": [
    "#you can use them directly but this is not advisable when writing production code\n",
    "a.__add__(6)"
   ]
  },
  {
   "cell_type": "code",
   "execution_count": 39,
   "metadata": {},
   "outputs": [],
   "source": [
    "# constructors allow class objects to hold different values\n",
    "class test2:\n",
    "    def __init__(self):\n",
    "        self.id = 1234\n",
    "        \n",
    "    def details(self): #function of the class\n",
    "        return self.id\n",
    "    "
   ]
  },
  {
   "cell_type": "code",
   "execution_count": 42,
   "metadata": {},
   "outputs": [],
   "source": [
    "o = test2()"
   ]
  },
  {
   "cell_type": "code",
   "execution_count": 43,
   "metadata": {},
   "outputs": [
    {
     "data": {
      "text/plain": [
       "1234"
      ]
     },
     "execution_count": 43,
     "metadata": {},
     "output_type": "execute_result"
    }
   ],
   "source": [
    "o.details()"
   ]
  },
  {
   "cell_type": "code",
   "execution_count": 51,
   "metadata": {},
   "outputs": [
    {
     "name": "stdout",
     "output_type": "stream",
     "text": [
      "<__main__.test2 object at 0x000001A891BC6C70>\n"
     ]
    }
   ],
   "source": [
    "print(o)\n"
   ]
  },
  {
   "cell_type": "code",
   "execution_count": 53,
   "metadata": {},
   "outputs": [],
   "source": [
    "'''instead of the address of the object being shown each time you can define what the object is using a magic\n",
    " method called __str__ or perhaps make a more meaningfl statement to what the object is''' \n",
    "class test2:\n",
    "    def __init__(self):\n",
    "        self.id = 1234\n",
    "        \n",
    "    def details(self): #function of the class\n",
    "        return self.id\n",
    "    \n",
    "    def __str__(self):\n",
    "        return 'this is an object belonging to the test2 class'\n",
    "        \n",
    "    "
   ]
  },
  {
   "cell_type": "code",
   "execution_count": 54,
   "metadata": {},
   "outputs": [],
   "source": [
    "a = test2()"
   ]
  },
  {
   "cell_type": "code",
   "execution_count": 55,
   "metadata": {},
   "outputs": [
    {
     "name": "stdout",
     "output_type": "stream",
     "text": [
      "this is an object belonging to the test2 class\n"
     ]
    }
   ],
   "source": [
    "print(a)"
   ]
  },
  {
   "cell_type": "markdown",
   "metadata": {},
   "source": [
    "### Property Decorators\n",
    "These are particularly useful if you want to expose the value of private variables to the public."
   ]
  },
  {
   "cell_type": "code",
   "execution_count": 73,
   "metadata": {},
   "outputs": [],
   "source": [
    "class test:\n",
    "    def __init__(self, a,b):\n",
    "        self.__a1 = a #public variable\n",
    "        self.b = b\n",
    "        \n",
    "\n",
    "    def view_a(self):\n",
    "        return self.__a1"
   ]
  },
  {
   "cell_type": "code",
   "execution_count": 74,
   "metadata": {},
   "outputs": [],
   "source": [
    "q = test(105,33)"
   ]
  },
  {
   "cell_type": "code",
   "execution_count": 75,
   "metadata": {},
   "outputs": [
    {
     "data": {
      "text/plain": [
       "<bound method test.view_a of <__main__.test object at 0x000001A8911A39D0>>"
      ]
     },
     "execution_count": 75,
     "metadata": {},
     "output_type": "execute_result"
    }
   ],
   "source": [
    "q.view_a"
   ]
  },
  {
   "cell_type": "code",
   "execution_count": 76,
   "metadata": {},
   "outputs": [
    {
     "data": {
      "text/plain": [
       "<bound method test.view_a of <__main__.test object at 0x000001A8911A39D0>>"
      ]
     },
     "execution_count": 76,
     "metadata": {},
     "output_type": "execute_result"
    }
   ],
   "source": [
    "q.view_a #this way they can see what a1 is but don't know the variable name and can't mess with it"
   ]
  },
  {
   "cell_type": "code",
   "execution_count": 80,
   "metadata": {},
   "outputs": [],
   "source": [
    "class test:\n",
    "    def __init__(self, a,b):\n",
    "        self.__a1 = a #public variable\n",
    "        self.b = b\n",
    "        \n",
    "    @property # with the help of property decorator you can expose the variable using a function which returns its value\n",
    "    def view_a(self):\n",
    "        return self.__a1"
   ]
  },
  {
   "cell_type": "code",
   "execution_count": 81,
   "metadata": {},
   "outputs": [],
   "source": [
    "q = test(105,33)"
   ]
  },
  {
   "cell_type": "code",
   "execution_count": 82,
   "metadata": {},
   "outputs": [
    {
     "data": {
      "text/plain": [
       "105"
      ]
     },
     "execution_count": 82,
     "metadata": {},
     "output_type": "execute_result"
    }
   ],
   "source": [
    "q.view_a"
   ]
  },
  {
   "cell_type": "markdown",
   "metadata": {},
   "source": [
    "### Property Setters\n",
    "These are particularly useful if you want private variables to be adjustable by the public but still keep their variable names\n",
    "private."
   ]
  },
  {
   "cell_type": "code",
   "execution_count": 90,
   "metadata": {},
   "outputs": [],
   "source": [
    "class test:\n",
    "    def __init__(self, a,b):\n",
    "        self.__a1 = a #public variable\n",
    "        self.b = b\n",
    "        \n",
    "    @property # with the help of property decorator you can expose the variable using a function which returns its value\n",
    "    def view_a(self):\n",
    "        return self.__a1\n",
    "    \n",
    "    @view_a.setter # with the help of property decorator you can set the value of the private variable\n",
    "    def set_a(self, s):\n",
    "        self.__a1 = s\n",
    "        \n",
    "    @view_a.deleter # with the help of property decorator you can set the value of the private variable\n",
    "    def delete_a(self):\n",
    "        del self.__a1"
   ]
  },
  {
   "cell_type": "code",
   "execution_count": 91,
   "metadata": {},
   "outputs": [],
   "source": [
    "a = test(55,100)"
   ]
  },
  {
   "cell_type": "code",
   "execution_count": 92,
   "metadata": {},
   "outputs": [
    {
     "data": {
      "text/plain": [
       "55"
      ]
     },
     "execution_count": 92,
     "metadata": {},
     "output_type": "execute_result"
    }
   ],
   "source": [
    "a.view_a"
   ]
  },
  {
   "cell_type": "code",
   "execution_count": 100,
   "metadata": {},
   "outputs": [],
   "source": [
    "a.set_a = 399"
   ]
  },
  {
   "cell_type": "code",
   "execution_count": 101,
   "metadata": {},
   "outputs": [
    {
     "data": {
      "text/plain": [
       "399"
      ]
     },
     "execution_count": 101,
     "metadata": {},
     "output_type": "execute_result"
    }
   ],
   "source": [
    "a.view_a"
   ]
  },
  {
   "cell_type": "code",
   "execution_count": 102,
   "metadata": {},
   "outputs": [],
   "source": [
    "del a.delete_a # deleting the variable"
   ]
  },
  {
   "cell_type": "code",
   "execution_count": 103,
   "metadata": {},
   "outputs": [
    {
     "ename": "AttributeError",
     "evalue": "'test' object has no attribute '_test__a1'",
     "output_type": "error",
     "traceback": [
      "\u001b[1;31m---------------------------------------------------------------------------\u001b[0m",
      "\u001b[1;31mAttributeError\u001b[0m                            Traceback (most recent call last)",
      "\u001b[1;32m<ipython-input-103-d7fdad3d78ba>\u001b[0m in \u001b[0;36m<module>\u001b[1;34m\u001b[0m\n\u001b[1;32m----> 1\u001b[1;33m \u001b[0ma\u001b[0m\u001b[1;33m.\u001b[0m\u001b[0mview_a\u001b[0m\u001b[1;33m\u001b[0m\u001b[1;33m\u001b[0m\u001b[0m\n\u001b[0m",
      "\u001b[1;32m<ipython-input-90-9b74fc290e9c>\u001b[0m in \u001b[0;36mview_a\u001b[1;34m(self)\u001b[0m\n\u001b[0;32m      6\u001b[0m     \u001b[1;33m@\u001b[0m\u001b[0mproperty\u001b[0m \u001b[1;31m# with the help of property decorator you can expose the variable using a function which returns its value\u001b[0m\u001b[1;33m\u001b[0m\u001b[1;33m\u001b[0m\u001b[0m\n\u001b[0;32m      7\u001b[0m     \u001b[1;32mdef\u001b[0m \u001b[0mview_a\u001b[0m\u001b[1;33m(\u001b[0m\u001b[0mself\u001b[0m\u001b[1;33m)\u001b[0m\u001b[1;33m:\u001b[0m\u001b[1;33m\u001b[0m\u001b[1;33m\u001b[0m\u001b[0m\n\u001b[1;32m----> 8\u001b[1;33m         \u001b[1;32mreturn\u001b[0m \u001b[0mself\u001b[0m\u001b[1;33m.\u001b[0m\u001b[0m__a1\u001b[0m\u001b[1;33m\u001b[0m\u001b[1;33m\u001b[0m\u001b[0m\n\u001b[0m\u001b[0;32m      9\u001b[0m \u001b[1;33m\u001b[0m\u001b[0m\n\u001b[0;32m     10\u001b[0m     \u001b[1;33m@\u001b[0m\u001b[0mview_a\u001b[0m\u001b[1;33m.\u001b[0m\u001b[0msetter\u001b[0m \u001b[1;31m# with the help of property decorator you can set the value of the private variable\u001b[0m\u001b[1;33m\u001b[0m\u001b[1;33m\u001b[0m\u001b[0m\n",
      "\u001b[1;31mAttributeError\u001b[0m: 'test' object has no attribute '_test__a1'"
     ]
    }
   ],
   "source": [
    "a.view_a"
   ]
  },
  {
   "cell_type": "code",
   "execution_count": null,
   "metadata": {},
   "outputs": [],
   "source": []
  }
 ],
 "metadata": {
  "kernelspec": {
   "display_name": "Python 3",
   "language": "python",
   "name": "python3"
  },
  "language_info": {
   "codemirror_mode": {
    "name": "ipython",
    "version": 3
   },
   "file_extension": ".py",
   "mimetype": "text/x-python",
   "name": "python",
   "nbconvert_exporter": "python",
   "pygments_lexer": "ipython3",
   "version": "3.8.3"
  }
 },
 "nbformat": 4,
 "nbformat_minor": 4
}
